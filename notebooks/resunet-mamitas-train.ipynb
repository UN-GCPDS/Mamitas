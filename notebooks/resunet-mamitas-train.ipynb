{
 "cells": [
  {
   "cell_type": "markdown",
   "metadata": {},
   "source": [
    "### **Descarga e importe de bibliotecas**"
   ]
  },
  {
   "cell_type": "code",
   "execution_count": 1,
   "metadata": {
    "execution": {
     "iopub.execute_input": "2025-04-04T01:54:45.040477Z",
     "iopub.status.busy": "2025-04-04T01:54:45.040269Z",
     "iopub.status.idle": "2025-04-04T01:54:52.120884Z",
     "shell.execute_reply": "2025-04-04T01:54:52.119780Z",
     "shell.execute_reply.started": "2025-04-04T01:54:45.040456Z"
    },
    "id": "SFYXdpxyL3MW",
    "trusted": true
   },
   "outputs": [],
   "source": [
    "%%capture\n",
    "!pip install git+https://github.com/qubvel/classification_models.git"
   ]
  },
  {
   "cell_type": "code",
   "execution_count": 2,
   "metadata": {
    "execution": {
     "iopub.execute_input": "2025-04-04T01:54:53.848769Z",
     "iopub.status.busy": "2025-04-04T01:54:53.848452Z",
     "iopub.status.idle": "2025-04-04T01:54:53.852721Z",
     "shell.execute_reply": "2025-04-04T01:54:53.851801Z",
     "shell.execute_reply.started": "2025-04-04T01:54:53.848742Z"
    },
    "trusted": true
   },
   "outputs": [],
   "source": [
    "import os\n",
    "os.environ[\"TF_USE_LEGACY_KERAS\"]=\"1\""
   ]
  },
  {
   "cell_type": "code",
   "execution_count": 3,
   "metadata": {
    "execution": {
     "iopub.execute_input": "2025-04-04T01:54:55.623149Z",
     "iopub.status.busy": "2025-04-04T01:54:55.622862Z",
     "iopub.status.idle": "2025-04-04T01:55:07.444176Z",
     "shell.execute_reply": "2025-04-04T01:55:07.443496Z",
     "shell.execute_reply.started": "2025-04-04T01:54:55.623117Z"
    },
    "id": "MLH79sx1CVah",
    "trusted": true
   },
   "outputs": [],
   "source": [
    "import gc\n",
    "import re\n",
    "import glob\n",
    "import random\n",
    "import shutil\n",
    "import zipfile\n",
    "import numpy as np\n",
    "from functools import partial\n",
    "import matplotlib.pyplot as plt\n",
    "\n",
    "import tensorflow as tf\n",
    "import tf_keras as keras\n",
    "import tf_keras.backend as K\n",
    "from tf_keras.losses import Loss\n",
    "from tf_keras.layers import Layer\n",
    "from tf_keras import layers, Model\n",
    "from tf_keras.optimizers import Adam\n",
    "from tf_keras.callbacks import Callback\n",
    "from tf_keras.saving import register_keras_serializable\n",
    "\n",
    "# ResUNet Model Backbone\n",
    "from classification_models.tfkeras import Classifiers  # Requires: pip install git+https://github.com/qubvel/classification_models.git"
   ]
  },
  {
   "cell_type": "markdown",
   "metadata": {},
   "source": [
    "### **Configuración del entorno**"
   ]
  },
  {
   "cell_type": "code",
   "execution_count": 4,
   "metadata": {
    "execution": {
     "iopub.execute_input": "2025-04-04T01:55:15.082536Z",
     "iopub.status.busy": "2025-04-04T01:55:15.081997Z",
     "iopub.status.idle": "2025-04-04T01:55:15.086788Z",
     "shell.execute_reply": "2025-04-04T01:55:15.085863Z",
     "shell.execute_reply.started": "2025-04-04T01:55:15.082507Z"
    },
    "id": "1k8z_CSFCVai",
    "trusted": true
   },
   "outputs": [],
   "source": [
    "# Set a seed\n",
    "seed = 42\n",
    "\n",
    "np.random.seed(seed)\n",
    "tf.random.set_seed(seed)\n",
    "random.seed(seed)"
   ]
  },
  {
   "cell_type": "code",
   "execution_count": 5,
   "metadata": {
    "execution": {
     "iopub.execute_input": "2025-04-04T01:55:17.150729Z",
     "iopub.status.busy": "2025-04-04T01:55:17.150384Z",
     "iopub.status.idle": "2025-04-04T01:55:18.075779Z",
     "shell.execute_reply": "2025-04-04T01:55:18.074953Z",
     "shell.execute_reply.started": "2025-04-04T01:55:17.150698Z"
    },
    "trusted": true
   },
   "outputs": [
    {
     "name": "stdout",
     "output_type": "stream",
     "text": [
      "Number of devices: 2\n"
     ]
    }
   ],
   "source": [
    "# Create a distribution strategy\n",
    "strategy = tf.distribute.MirroredStrategy()\n",
    "print('Number of devices: {}'.format(strategy.num_replicas_in_sync))"
   ]
  },
  {
   "cell_type": "markdown",
   "metadata": {},
   "source": [
    "### **Descarga y cargado de la base de datos de mamitas**"
   ]
  },
  {
   "cell_type": "markdown",
   "metadata": {},
   "source": [
    "##### **Importante definir el número de clases**"
   ]
  },
  {
   "cell_type": "code",
   "execution_count": 6,
   "metadata": {
    "execution": {
     "iopub.execute_input": "2025-04-04T01:55:20.398787Z",
     "iopub.status.busy": "2025-04-04T01:55:20.398436Z",
     "iopub.status.idle": "2025-04-04T01:55:20.402366Z",
     "shell.execute_reply": "2025-04-04T01:55:20.401569Z",
     "shell.execute_reply.started": "2025-04-04T01:55:20.398757Z"
    },
    "trusted": true
   },
   "outputs": [],
   "source": [
    "classes = 2 # Son dos clases; 0-Fondo, 1-feet"
   ]
  },
  {
   "cell_type": "code",
   "execution_count": 7,
   "metadata": {
    "execution": {
     "iopub.execute_input": "2025-04-04T01:55:22.291315Z",
     "iopub.status.busy": "2025-04-04T01:55:22.291032Z",
     "iopub.status.idle": "2025-04-04T01:55:25.476793Z",
     "shell.execute_reply": "2025-04-04T01:55:25.475560Z",
     "shell.execute_reply.started": "2025-04-04T01:55:22.291293Z"
    },
    "trusted": true
   },
   "outputs": [
    {
     "name": "stdout",
     "output_type": "stream",
     "text": [
      "Warning: Looks like you're using an outdated API Version, please consider updating (server 1.7.4.2 / client 1.6.17)\n",
      "Dataset URL: https://www.kaggle.com/datasets/fredycastao/Mamitas-Only-Subject/versions/3\n",
      "License(s): CC-BY-SA-4.0\n",
      "Downloading Mamitas-Only-Subject.zip to /kaggle/working\n",
      " 91%|██████████████████████████████████▌   | 68.0M/74.7M [00:00<00:00, 88.8MB/s]\n",
      "100%|██████████████████████████████████████| 74.7M/74.7M [00:00<00:00, 84.0MB/s]\n"
     ]
    }
   ],
   "source": [
    "# Download histology dataset\n",
    "classes_ = {2:3}\n",
    "!kaggle datasets download fredycastao/Mamitas-Only-Subject/{classes_[classes]} \n",
    "\n",
    "os.makedirs('./datasets/Mamitas', exist_ok=True)\n",
    "with zipfile.ZipFile('./Mamitas-Only-Subject.zip', 'r') as zip_ref: zip_ref.extractall('./datasets/Mamitas')\n",
    "!rm -rf ./Mamitas-Only-Subject.zip"
   ]
  },
  {
   "cell_type": "code",
   "execution_count": 8,
   "metadata": {
    "execution": {
     "iopub.execute_input": "2025-04-04T01:55:30.437308Z",
     "iopub.status.busy": "2025-04-04T01:55:30.436978Z",
     "iopub.status.idle": "2025-04-04T01:55:30.442108Z",
     "shell.execute_reply": "2025-04-04T01:55:30.441125Z",
     "shell.execute_reply.started": "2025-04-04T01:55:30.437278Z"
    },
    "id": "l1NkeBQNpPxY",
    "trusted": true
   },
   "outputs": [],
   "source": [
    "config = {\"Seg_model\":\"ResUNet\",\"Activation\":\"softmax\",\"Input size\":(512,512,3),\"Image size\":(512,512),\n",
    "          \"Dataset\":\"Mamitas\",\"Dir of dataset\":\"./datasets/Mamitas\",\"Batch size\":32,\"Epochs\":100,\"Number of classes\":classes}"
   ]
  },
  {
   "cell_type": "code",
   "execution_count": 9,
   "metadata": {
    "execution": {
     "iopub.execute_input": "2025-04-04T01:55:32.379897Z",
     "iopub.status.busy": "2025-04-04T01:55:32.379557Z",
     "iopub.status.idle": "2025-04-04T01:55:32.599197Z",
     "shell.execute_reply": "2025-04-04T01:55:32.598004Z",
     "shell.execute_reply.started": "2025-04-04T01:55:32.379870Z"
    },
    "id": "w-2YmHWRpPxY",
    "trusted": true
   },
   "outputs": [],
   "source": [
    "class DataLoader:\n",
    "\n",
    "    def __init__(self, data_dir, batch_size, image_size, num_classes, partition):\n",
    "\n",
    "        self.data_dir = data_dir\n",
    "        self.batch_size = batch_size\n",
    "        self.image_size = image_size\n",
    "        self.num_classes = num_classes\n",
    "        self.partition = partition\n",
    "\n",
    "    def load_images(self):\n",
    "\n",
    "        # Create the path for patch images\n",
    "        images_path_pattern = os.path.join(self.data_dir, self.partition, 'images', '*.png')\n",
    "        images_files = glob.glob(images_path_pattern)\n",
    "\n",
    "        # Sort patch files alphanumerically\n",
    "        def alphanumeric_key(s):\n",
    "            # Split the string into parts (numbers and text)\n",
    "            parts = re.split(r'(\\d+)', s)\n",
    "            # Convert numeric parts to integers for proper sorting\n",
    "            return [int(part) if part.isdigit() else part for part in parts]\n",
    "\n",
    "        images_files = sorted(images_files, key=alphanumeric_key)\n",
    "\n",
    "        self.file_sample = []\n",
    "        for file in images_files:\n",
    "            name_file = file.split('/')[-1]\n",
    "            self.file_sample.append(name_file)\n",
    "\n",
    "        self.num_samples = len(images_files)\n",
    "\n",
    "        # Print the complete path and the number of found patch images\n",
    "        print(f\"Complete images: {images_path_pattern}\")\n",
    "        print(f\"Number of images files found: {len(images_files)}\")\n",
    "\n",
    "        # Create a TensorFlow dataset from the images file paths\n",
    "        images_ds = tf.data.Dataset.from_tensor_slices(images_files)\n",
    "\n",
    "        # Map each file path to a processed image\n",
    "        images_ds = images_ds.map(self.process_images, num_parallel_calls=tf.data.AUTOTUNE)\n",
    "\n",
    "        return images_ds\n",
    "\n",
    "    def load_masks(self):\n",
    "\n",
    "        mask_path_main = os.path.join(self.data_dir, self.partition, 'masks')\n",
    "\n",
    "        # Check samples in classes\n",
    "        for class_id in range(self.num_classes):\n",
    "            mask_path_pattern = os.path.join(mask_path_main, f'class_{class_id}', '*.png')\n",
    "            found_masks = glob.glob(mask_path_pattern)\n",
    "            print(f\"Original masks path, class {class_id}: {mask_path_pattern}\")\n",
    "            print(f\"Number of masks found: {len(found_masks)}\")\n",
    "\n",
    "        masks_path = []\n",
    "        # Organize ground truth masks by sample and class\n",
    "        for sample in self.file_sample:\n",
    "            masks_sample = []\n",
    "            for class_id in range(self.num_classes):\n",
    "                masks_sample.append(os.path.join(mask_path_main, f'class_{class_id}', sample))\n",
    "            masks_path.append(masks_sample)\n",
    "\n",
    "        # Create dataset from `masks_path` and apply `process_masks` to each set of paths\n",
    "        masks_ds = tf.data.Dataset.from_tensor_slices(masks_path)\n",
    "        masks_ds = masks_ds.map(self.process_masks, num_parallel_calls=tf.data.AUTOTUNE)\n",
    "\n",
    "        return masks_ds\n",
    "\n",
    "    def process_images(self, file_path):\n",
    "\n",
    "        img = tf.io.read_file(file_path)  # Read the image file\n",
    "        img = tf.image.decode_png(img, channels=3)  # Decode PNG image\n",
    "        img = tf.image.resize(img, self.image_size)  # Resize image\n",
    "        img = tf.cast(img, tf.float32)  # Convert to float32\n",
    "        img /= 255.0  # Normalize to [0, 1]\n",
    "        return img\n",
    "\n",
    "    def process_masks(self, sample_paths):\n",
    "\n",
    "        # Decode and process images\n",
    "        decoded_images = tf.map_fn(\n",
    "            tf.io.read_file,\n",
    "            sample_paths,\n",
    "            dtype=tf.string,\n",
    "            parallel_iterations=4\n",
    "        )\n",
    "\n",
    "        masks = tf.map_fn(\n",
    "            lambda x: tf.io.decode_png(x, channels=1),\n",
    "            decoded_images,\n",
    "            dtype=tf.uint8,\n",
    "            parallel_iterations=4\n",
    "        )\n",
    "\n",
    "        # Resize and normalize\n",
    "        masks = tf.map_fn(\n",
    "            lambda x: tf.image.resize(x, size=self.image_size),\n",
    "            masks,\n",
    "            dtype=tf.float32\n",
    "        )\n",
    "\n",
    "        masks = tf.cast(masks, tf.float32)  # Convert to float32\n",
    "        masks = masks / 255.0  # Normalize to [0, 1]\n",
    "        masks = tf.squeeze(masks, axis=-1)  # Remove the last dimension\n",
    "        masks = tf.transpose(masks, perm=[1, 2, 0])  # Transpose to [height, width, classes]\n",
    "\n",
    "        return masks\n",
    "\n",
    "    def get_dataset(self):\n",
    "\n",
    "        images_ds = self.load_images()\n",
    "        masks_ds = self.load_masks()\n",
    "        dataset = tf.data.Dataset.zip((images_ds,masks_ds))\n",
    "\n",
    "        # Apply batching and prefetching for optimization\n",
    "        dataset = dataset.batch(self.batch_size)\n",
    "        dataset = dataset.prefetch(tf.data.AUTOTUNE)\n",
    "\n",
    "        return dataset"
   ]
  },
  {
   "cell_type": "code",
   "execution_count": 10,
   "metadata": {
    "execution": {
     "iopub.execute_input": "2025-04-04T01:55:36.795040Z",
     "iopub.status.busy": "2025-04-04T01:55:36.794746Z",
     "iopub.status.idle": "2025-04-04T01:55:37.032190Z",
     "shell.execute_reply": "2025-04-04T01:55:37.031567Z",
     "shell.execute_reply.started": "2025-04-04T01:55:36.795016Z"
    },
    "id": "9OWbGf7PCVaj",
    "outputId": "b88e2647-9ea9-4719-82c0-f4a0222d38e4",
    "trusted": true
   },
   "outputs": [
    {
     "name": "stdout",
     "output_type": "stream",
     "text": [
      "Complete images: ./datasets/Mamitas/Train/images/*.png\n",
      "Number of images files found: 342\n",
      "Original masks path, class 0: ./datasets/Mamitas/Train/masks/class_0/*.png\n",
      "Number of masks found: 342\n",
      "Original masks path, class 1: ./datasets/Mamitas/Train/masks/class_1/*.png\n",
      "Number of masks found: 342\n"
     ]
    }
   ],
   "source": [
    "# Instantiate data loader and load train partition\n",
    "data_loader = DataLoader(config['Dir of dataset'], config['Batch size'], \n",
    "                         config['Image size'], config['Number of classes'],'Train')\n",
    "train_dataset = data_loader.get_dataset()"
   ]
  },
  {
   "cell_type": "code",
   "execution_count": 11,
   "metadata": {
    "execution": {
     "iopub.execute_input": "2025-04-04T01:55:39.367833Z",
     "iopub.status.busy": "2025-04-04T01:55:39.367350Z",
     "iopub.status.idle": "2025-04-04T01:55:39.482841Z",
     "shell.execute_reply": "2025-04-04T01:55:39.482154Z",
     "shell.execute_reply.started": "2025-04-04T01:55:39.367795Z"
    },
    "id": "8zG-NuLWCVak",
    "outputId": "cfb53e2a-b6c0-461f-e47f-3f77ae87a1ce",
    "trusted": true
   },
   "outputs": [
    {
     "name": "stdout",
     "output_type": "stream",
     "text": [
      "Complete images: ./datasets/Mamitas/Valid/images/*.png\n",
      "Number of images files found: 37\n",
      "Original masks path, class 0: ./datasets/Mamitas/Valid/masks/class_0/*.png\n",
      "Number of masks found: 37\n",
      "Original masks path, class 1: ./datasets/Mamitas/Valid/masks/class_1/*.png\n",
      "Number of masks found: 37\n"
     ]
    }
   ],
   "source": [
    "# Instantiate data loader and load validation partition\n",
    "data_loader = DataLoader(config['Dir of dataset'], config['Batch size'], \n",
    "                         config['Image size'], config['Number of classes'],'Valid')\n",
    "valid_dataset = data_loader.get_dataset()"
   ]
  },
  {
   "cell_type": "code",
   "execution_count": 12,
   "metadata": {
    "execution": {
     "iopub.execute_input": "2025-04-04T01:55:42.161652Z",
     "iopub.status.busy": "2025-04-04T01:55:42.161339Z",
     "iopub.status.idle": "2025-04-04T01:55:42.268754Z",
     "shell.execute_reply": "2025-04-04T01:55:42.267838Z",
     "shell.execute_reply.started": "2025-04-04T01:55:42.161600Z"
    },
    "id": "i2H2KXglCVak",
    "outputId": "8cd2eab3-9b36-4d52-ecfa-8b3285f6149a",
    "trusted": true
   },
   "outputs": [
    {
     "name": "stdout",
     "output_type": "stream",
     "text": [
      "Complete images: ./datasets/Mamitas/Test/images/*.png\n",
      "Number of images files found: 37\n",
      "Original masks path, class 0: ./datasets/Mamitas/Test/masks/class_0/*.png\n",
      "Number of masks found: 37\n",
      "Original masks path, class 1: ./datasets/Mamitas/Test/masks/class_1/*.png\n",
      "Number of masks found: 37\n"
     ]
    }
   ],
   "source": [
    "# Instantiate data loader and load test partition\n",
    "data_loader = DataLoader(config['Dir of dataset'], config['Batch size'], \n",
    "                         config['Image size'], config['Number of classes'],'Test')\n",
    "test_dataset = data_loader.get_dataset()"
   ]
  },
  {
   "cell_type": "markdown",
   "metadata": {},
   "source": [
    "#### **Visualización de la base de datos de mamitas**"
   ]
  },
  {
   "cell_type": "code",
   "execution_count": 13,
   "metadata": {
    "execution": {
     "iopub.execute_input": "2025-04-04T01:55:44.645925Z",
     "iopub.status.busy": "2025-04-04T01:55:44.645567Z",
     "iopub.status.idle": "2025-04-04T01:55:44.654204Z",
     "shell.execute_reply": "2025-04-04T01:55:44.653363Z",
     "shell.execute_reply.started": "2025-04-04T01:55:44.645898Z"
    },
    "id": "kditJc0cpPxa",
    "trusted": true
   },
   "outputs": [],
   "source": [
    "def random_sample_visualization(dataset, num_classes):\n",
    "\n",
    "    # Select first batch\n",
    "    batch = 0\n",
    "\n",
    "    # Skip to the desired batch and take one batch\n",
    "    for images, masks in dataset.skip(batch).take(1):\n",
    "        print(f\"Images in the batch: {images.shape}, Masks in the batch: {masks.shape}\")\n",
    "\n",
    "    # Select a random sample within the batch\n",
    "    sample = random.randint(0, images.shape[0]-1)\n",
    "\n",
    "    # Determine the number of columns for the visualization grid\n",
    "    columns = []\n",
    "    rows = 2\n",
    "\n",
    "    columns.append(masks.shape[-1] if masks.shape[-1] <= 6 else 6)\n",
    "\n",
    "    columns = max(columns)\n",
    "\n",
    "    fig = plt.figure(figsize=(20, 12))\n",
    "    \n",
    "    gs = fig.add_gridspec(rows + 1, columns, hspace=0.2, wspace=-0.6)\n",
    "    axes = [[fig.add_subplot(gs[r, c]) for c in range(columns)] for r in range(rows)]\n",
    "\n",
    "    # Display the original image for the selected sample\n",
    "    axes[0][0].set_title('Image',loc='center')\n",
    "    axes[0][0].imshow(images[sample])  # Show the sample image\n",
    "\n",
    "    title_ax = fig.add_subplot(gs[rows-1, :])\n",
    "    title_ax.set_title(\"Masks of segmentation for different classes\",loc='left')\n",
    "    title_ax.axis('off')  # Ocultar ejes\n",
    "\n",
    "    classes_list = []\n",
    "    while len(classes_list) < min(num_classes,columns):\n",
    "        num = random.randint(0, num_classes-1)\n",
    "        if num not in classes_list:\n",
    "            classes_list.append(num)\n",
    "\n",
    "    for i in range(len(classes_list)):\n",
    "        axes[rows-1][i].imshow(masks[sample, :, :, classes_list[i]:classes_list[i]+1])\n",
    "\n",
    "    [ax.axis('off') for row in axes for ax in row]\n",
    "\n",
    "    # Adjust layout for better spacing\n",
    "    fig.tight_layout()\n",
    "\n",
    "    # Display the visualization\n",
    "    plt.show()\n",
    "\n",
    "    # Free memory\n",
    "    del images, masks # Delete large variables\n",
    "    if 'annotators_list' in locals():\n",
    "        del annotators_list\n",
    "    if 'classes_list' in locals():\n",
    "        del classes_list\n",
    "    gc.collect() # Force garbage collection"
   ]
  },
  {
   "cell_type": "code",
   "execution_count": 14,
   "metadata": {
    "execution": {
     "iopub.execute_input": "2025-04-04T01:55:49.012409Z",
     "iopub.status.busy": "2025-04-04T01:55:49.012098Z",
     "iopub.status.idle": "2025-04-04T01:55:50.150353Z",
     "shell.execute_reply": "2025-04-04T01:55:50.149695Z",
     "shell.execute_reply.started": "2025-04-04T01:55:49.012381Z"
    },
    "id": "hXCkIf5-pPxa",
    "outputId": "b6d56e01-eed0-40ec-e78b-4049f97cc4f5",
    "trusted": true
   },
   "outputs": [
    {
     "name": "stdout",
     "output_type": "stream",
     "text": [
      "Images in the batch: (32, 512, 512, 3), Masks in the batch: (32, 512, 512, 2)\n"
     ]
    },
    {
     "name": "stderr",
     "output_type": "stream",
     "text": [
      "<ipython-input-13-bf66a0e7f52d>:46: UserWarning: This figure includes Axes that are not compatible with tight_layout, so results might be incorrect.\n",
      "  fig.tight_layout()\n"
     ]
    },
    {
     "data": {
      "image/png": "[encoded data removed]",
      "text/plain": [
       "<Figure size 2000x1200 with 5 Axes>"
      ]
     },
     "metadata": {},
     "output_type": "display_data"
    }
   ],
   "source": [
    "random_sample_visualization(train_dataset, config['Number of classes'])"
   ]
  },
  {
   "cell_type": "markdown",
   "metadata": {},
   "source": [
    "### **Definición y creación del modelo, medidas de rendimiento y función de pérdida**"
   ]
  },
  {
   "cell_type": "code",
   "execution_count": 15,
   "metadata": {
    "execution": {
     "iopub.execute_input": "2025-04-04T01:56:07.691250Z",
     "iopub.status.busy": "2025-04-04T01:56:07.690947Z",
     "iopub.status.idle": "2025-04-04T01:56:07.726477Z",
     "shell.execute_reply": "2025-04-04T01:56:07.725710Z",
     "shell.execute_reply.started": "2025-04-04T01:56:07.691229Z"
    },
    "id": "ZEZWBe0l5b0Q",
    "trusted": true
   },
   "outputs": [],
   "source": [
    "ResNet34, preprocess_input = Classifiers.get('resnet34')\n",
    "\n",
    "# Definition of layers for the neural network structure\n",
    "\n",
    "DefaultConv2D = partial(layers.Conv2D,\n",
    "                        kernel_size=3, activation='relu', padding=\"same\")\n",
    "\n",
    "DefaultPooling = partial(layers.MaxPool2D,\n",
    "                        pool_size=2)\n",
    "\n",
    "\n",
    "upsample = partial(layers.UpSampling2D, (2,2))\n",
    "\n",
    "@register_keras_serializable(package=\"my_custom_losses\")\n",
    "class DiceCoefficient(Loss):\n",
    "    def __init__(self, smooth=1., target_class= None, name='DiceCoefficient', **kwargs):\n",
    "        self.smooth = smooth\n",
    "        self.target_class = target_class\n",
    "        super().__init__(name=name,**kwargs)\n",
    "\n",
    "    def call(self, y_true, y_pred):\n",
    "        intersection = K.sum(y_true * y_pred, axis=[1,2])\n",
    "        union = K.sum(y_true,axis=[1,2]) + K.sum(y_pred,axis=[1,2])\n",
    "        dice_coef = -(2. * intersection + self.smooth) /(union + self.smooth)\n",
    "        \n",
    "        if self.target_class != None:\n",
    "            dice_coef = tf.gather(dice_coef,\n",
    "                                  self.target_class, axis=1)\n",
    "        else:\n",
    "            dice_coef = K.mean(dice_coef,axis=-1)\n",
    "\n",
    "        return dice_coef\n",
    "\n",
    "    def get_config(self,):\n",
    "        base_config = super().get_config()\n",
    "        return {**base_config, \"smooth\": self.smooth,\n",
    "                \"target_class\":self.target_class}\n",
    "\n",
    "@register_keras_serializable(package=\"my_custom_metrics\")\n",
    "def dice_metric(y_true, y_pred, smooth=1e-7, axis=(1, 2), return_mean=True):\n",
    "    y_true = tf.cast(y_true, tf.float32)\n",
    "    y_true = tf.where(y_true > 0.5, 1.0, 0.0)\n",
    "    y_pred = tf.cast(y_pred, tf.float32)\n",
    "    y_pred = tf.where(y_pred > 0.5, 1.0, 0.0)\n",
    "    intersection = tf.reduce_sum(y_true * y_pred, axis=axis)\n",
    "    union = tf.reduce_sum(y_true, axis=axis) + tf.reduce_sum(y_pred, axis=axis)\n",
    "    dice = (2. * intersection + smooth) / (union + smooth)\n",
    "\n",
    "    if return_mean:\n",
    "        return tf.reduce_mean(dice)\n",
    "    else:\n",
    "        # For multi-class segmentation, handle the class dimension correctly\n",
    "        # The shape of dice is [batch_size, num_classes]\n",
    "        # Return without squeezing if there are multiple classes\n",
    "        if dice.shape[1] > 1:\n",
    "            return tf.transpose(dice, perm=[1, 0])  # Shape: [num_classes, batch_size]\n",
    "        else:\n",
    "            return tf.squeeze(tf.transpose(dice, perm=[1, 0]), axis=0)\n",
    "            \n",
    "@register_keras_serializable(package=\"my_custom_metrics\")\n",
    "def jaccard_metric(y_true, y_pred, axis=(1, 2), smooth=1e-7, return_mean=True):\n",
    "    y_true = tf.cast(y_true, tf.float32)\n",
    "    y_true = tf.where(y_true > 0.5, 1.0, 0.0)\n",
    "    y_pred = tf.cast(y_pred, tf.float32)\n",
    "    y_pred = tf.where(y_pred > 0.5, 1.0, 0.0)\n",
    "    intersection = tf.reduce_sum(y_true * y_pred, axis=axis)\n",
    "    union = tf.reduce_sum(y_true, axis=axis) + tf.reduce_sum(y_pred, axis=axis) - intersection\n",
    "    jaccard = (intersection + smooth) / (union + smooth)\n",
    "    if return_mean:\n",
    "        return tf.reduce_mean(jaccard)\n",
    "    else:\n",
    "        # For multi-class segmentation, handle the class dimension correctly\n",
    "        # The shape of dice is [batch_size, num_classes]\n",
    "        # Return without squeezing if there are multiple classes\n",
    "        if jaccard.shape[1] > 1:\n",
    "            return tf.transpose(jaccard, perm=[1, 0])  # Shape: [num_classes, batch_size]\n",
    "        else:\n",
    "            return tf.squeeze(tf.transpose(jaccard, perm=[1, 0]), axis=0)\n",
    "\n",
    "@register_keras_serializable(package=\"my_custom_metrics\")\n",
    "def sensitivity_metric(y_true, y_pred, axis=(1, 2), smooth=1e-7, return_mean=True):\n",
    "    y_true = tf.cast(y_true, tf.float32)\n",
    "    y_true = tf.where(y_true > 0.5, 1.0, 0.0)\n",
    "    y_pred = tf.cast(y_pred, tf.float32)\n",
    "    y_pred = tf.where(y_pred > 0.5, 1.0, 0.0)\n",
    "    true_positives = tf.reduce_sum(y_true * y_pred, axis=axis)\n",
    "    actual_positives = tf.reduce_sum(y_true, axis=axis)\n",
    "    sensitivity = true_positives / (actual_positives + smooth)\n",
    "    if return_mean:\n",
    "        return tf.reduce_mean(sensitivity)\n",
    "    else:\n",
    "        # For multi-class segmentation, handle the class dimension correctly\n",
    "        # The shape of dice is [batch_size, num_classes]\n",
    "        # Return without squeezing if there are multiple classes\n",
    "        if sensitivity.shape[1] > 1:\n",
    "            return tf.transpose(sensitivity, perm=[1, 0])  # Shape: [num_classes, batch_size]\n",
    "        else:\n",
    "            return tf.squeeze(tf.transpose(sensitivity, perm=[1, 0]), axis=0)\n",
    "\n",
    "@register_keras_serializable(package=\"my_custom_metrics\")\n",
    "def specificity_metric(y_true, y_pred, axis=(1, 2), smooth=1e-7, return_mean=True):\n",
    "    y_true = tf.cast(y_true, tf.float32)\n",
    "    y_true = tf.where(y_true > 0.5, 1.0, 0.0)\n",
    "    y_pred = tf.cast(y_pred, tf.float32)\n",
    "    y_pred = tf.where(y_pred > 0.5, 1.0, 0.0)\n",
    "    true_negatives = tf.reduce_sum((1 - y_true) * (1 - y_pred), axis=axis)\n",
    "    actual_negatives = tf.reduce_sum(1 - y_true, axis=axis)\n",
    "    specificity = true_negatives / (actual_negatives + tf.keras.backend.epsilon())\n",
    "    if return_mean:\n",
    "        return tf.reduce_mean(specificity)\n",
    "    else:\n",
    "        # For multi-class segmentation, handle the class dimension correctly\n",
    "        # The shape of dice is [batch_size, num_classes]\n",
    "        # Return without squeezing if there are multiple classes\n",
    "        if specificity.shape[1] > 1:\n",
    "            return tf.transpose(specificity, perm=[1, 0])  # Shape: [num_classes, batch_size]\n",
    "        else:\n",
    "            return tf.squeeze(tf.transpose(specificity, perm=[1, 0]), axis=0)\n",
    "\n",
    "\n",
    "@register_keras_serializable(package=\"my_custom_activations\")\n",
    "def sparse_softmax(x):\n",
    "    \n",
    "    e_x = tf.exp(x - tf.reduce_max(x, axis=-1, keepdims=True))\n",
    "    sum_e_x = tf.reduce_sum(e_x, axis=-1, keepdims=True)\n",
    "    output = e_x / (sum_e_x + keras.backend.epsilon())\n",
    "    return output\n",
    "\n",
    "def kernel_initializer(seed):\n",
    "    \n",
    "    return tf.keras.initializers.GlorotUniform(seed=seed)\n",
    "\n",
    "\n",
    "def residual_block(x, filters, kernel_initializer, block_name):\n",
    "    \n",
    "    shortcut = x\n",
    "    x = DefaultConv2D(filters, kernel_initializer=kernel_initializer, name=f'Conv_{block_name}_1')(x)\n",
    "    x = layers.BatchNormalization(name=f'Batch_{block_name}_1')(x)\n",
    "    x = DefaultConv2D(filters, kernel_initializer=kernel_initializer, name=f'Conv_{block_name}_2')(x)\n",
    "    x = layers.BatchNormalization(name=f'Batch_{block_name}_2')(x)\n",
    "    x = layers.Add(name=f'ResAdd_{block_name}')([shortcut, x])\n",
    "    x = layers.Activation('relu', name=f'ResAct_{block_name}')(x)\n",
    "    return x\n",
    "\n",
    "def UNet(inputs, out_channels, activation):\n",
    "    \n",
    "    # Encoder - Downsampling path with increasing filter numbers\n",
    "    # Each level follows: Conv -> Dropout -> BatchNorm -> Conv -> Dropout -> BatchNorm -> Pooling\n",
    "\n",
    "    x = layers.BatchNormalization(name='Batch00')(inputs)\n",
    "    x = DefaultConv2D(8, kernel_initializer=kernel_initializer(34), name='Conv10')(x)\n",
    "    x = layers.Dropout(0.1)(x)\n",
    "    x = layers.BatchNormalization(name='Batch10')(x)\n",
    "    x = level_1 = DefaultConv2D(8, kernel_initializer=kernel_initializer(4), name='Conv11')(x)\n",
    "    x = layers.Dropout(0.1)(x)\n",
    "    x = layers.BatchNormalization(name='Batch11')(x)\n",
    "    x = DefaultPooling(name='Pool10')(x)  # 128x128 -> 64x64\n",
    "\n",
    "    x = DefaultConv2D(16, kernel_initializer=kernel_initializer(56), name='Conv20')(x)\n",
    "    x = layers.Dropout(0.1)(x)\n",
    "    x = layers.BatchNormalization(name='Batch20')(x)\n",
    "    x = level_2 = DefaultConv2D(16, kernel_initializer=kernel_initializer(32), name='Conv21')(x)\n",
    "    x = layers.Dropout(0.1)(x)\n",
    "    x = layers.BatchNormalization(name='Batch22')(x)\n",
    "    x = DefaultPooling(name='Pool20')(x)  # 64x64 -> 32x32\n",
    "\n",
    "    x = DefaultConv2D(32, kernel_initializer=kernel_initializer(87), name='Conv30')(x)\n",
    "    x = layers.Dropout(0.1)(x)\n",
    "    x = layers.BatchNormalization(name='Batch30')(x)\n",
    "    x = level_3 = DefaultConv2D(32, kernel_initializer=kernel_initializer(30), name='Conv31')(x)\n",
    "    x = layers.Dropout(0.1)(x)\n",
    "    x = layers.BatchNormalization(name='Batch31')(x)\n",
    "    x = DefaultPooling(name='Pool30')(x)  # 32x32 -> 16x16\n",
    "\n",
    "    x = DefaultConv2D(64, kernel_initializer=kernel_initializer(79), name='Conv40')(x)\n",
    "    x = layers.Dropout(0.1)(x)\n",
    "    x = layers.BatchNormalization(name='Batch40')(x)\n",
    "    x = level_4 = DefaultConv2D(64, kernel_initializer=kernel_initializer(81), name='Conv41')(x)\n",
    "    x = layers.Dropout(0.1)(x)\n",
    "    x = layers.BatchNormalization(name='Batch41')(x)\n",
    "    x = DefaultPooling(name='Pool40')(x)  # 16x16 -> 8x8\n",
    "\n",
    "    # Decoder - Upsampling path with decreasing filter numbers\n",
    "    # Each level follows: Conv -> Dropout -> BatchNorm -> Conv -> Dropout -> BatchNorm\n",
    "    x = DefaultConv2D(128, kernel_initializer=kernel_initializer(89), name='Conv50')(x)\n",
    "    x = layers.Dropout(0.1)(x)\n",
    "    x = layers.BatchNormalization(name='Batch50')(x)\n",
    "    x = DefaultConv2D(128, kernel_initializer=kernel_initializer(42), name='Conv51')(x)\n",
    "    x = layers.Dropout(0.1)(x)\n",
    "    x = layers.BatchNormalization(name='Batch51')(x)\n",
    "\n",
    "    # Upsampling and skip connection with level_4 features\n",
    "    x = upsample(name='Up60')(x)  # 8x8 -> 16x16\n",
    "    x = layers.Concatenate(name='Concat60')([level_4, x])\n",
    "    x = DefaultConv2D(64, kernel_initializer=kernel_initializer(91), name='Conv60')(x)\n",
    "    x = layers.Dropout(0.1)(x)\n",
    "    x = layers.BatchNormalization(name='Batch60')(x)\n",
    "    x = DefaultConv2D(64, kernel_initializer=kernel_initializer(47), name='Conv61')(x)\n",
    "    x = layers.Dropout(0.1)(x)\n",
    "    x = layers.BatchNormalization(name='Batch61')(x)\n",
    "\n",
    "    # Upsampling and skip connection with level_3 features\n",
    "    x = upsample(name='Up70')(x)  # 16x16 -> 32x32\n",
    "    x = layers.Concatenate(name='Concat70')([level_3, x])\n",
    "    x = DefaultConv2D(32, kernel_initializer=kernel_initializer(21), name='Conv70')(x)\n",
    "    x = layers.Dropout(0.1)(x)\n",
    "    x = layers.BatchNormalization(name='Batch70')(x)\n",
    "    x = DefaultConv2D(32, kernel_initializer=kernel_initializer(96), name='Conv71')(x)\n",
    "    x = layers.Dropout(0.1)(x)\n",
    "    x = layers.BatchNormalization(name='Batch71')(x)\n",
    "\n",
    "    # Upsampling and skip connection with level_2 features\n",
    "    x = upsample(name='Up80')(x)  # 32x32 -> 64x64\n",
    "    x = layers.Concatenate(name='Concat80')([level_2, x])\n",
    "    x = DefaultConv2D(16, kernel_initializer=kernel_initializer(96), name='Conv80')(x)\n",
    "    x = layers.Dropout(0.1)(x)\n",
    "    x = layers.BatchNormalization(name='Batch80')(x)\n",
    "    x = DefaultConv2D(16, kernel_initializer=kernel_initializer(98), name='Conv81')(x)\n",
    "    x = layers.Dropout(0.1)(x)\n",
    "    x = layers.BatchNormalization(name='Batch81')(x)\n",
    "\n",
    "    # Upsampling and skip connection with level_1 features\n",
    "    x = upsample(name='Up90')(x)  # 64x64 -> 128x128\n",
    "    x = layers.Concatenate(name='Concat90')([level_1, x])\n",
    "    x = DefaultConv2D(8, kernel_initializer=kernel_initializer(35), name='Conv90')(x)\n",
    "    x = layers.Dropout(0.1)(x)\n",
    "    x = layers.BatchNormalization(name='Batch90')(x)\n",
    "    x = DefaultConv2D(8, kernel_initializer=kernel_initializer(7), name='Conv91')(x)\n",
    "    x = layers.Dropout(0.1)(x)\n",
    "    x = layers.BatchNormalization(name='Batch91')(x)\n",
    "\n",
    "    # Final segmentation output with specified activation\n",
    "    if activation == 'sparse_softmax':\n",
    "        x = DefaultConv2D(out_channels, kernel_size=(1, 1), activation=sparse_softmax,\n",
    "                          kernel_initializer=kernel_initializer(42), name='Conv200')(x)\n",
    "    else:\n",
    "        x = DefaultConv2D(out_channels, kernel_size=(1, 1), activation=activation,\n",
    "                          kernel_initializer=kernel_initializer(42), name='Conv200')(x)\n",
    "\n",
    "    return x\n",
    "\n",
    "\n",
    "def ResUNet(inputs, input_shape, out_channels,activation):\n",
    "    \n",
    "    # Backbone (ResNet34) - Use pre-trained weights from ImageNet\n",
    "    backbone = ResNet34(\n",
    "        input_shape=input_shape,\n",
    "        input_tensor=inputs,\n",
    "        include_top=False,\n",
    "        weights='imagenet')\n",
    "\n",
    "    # Freeze backbone layers except BatchNormalization layers\n",
    "    # This allows the model to adapt to the new domain while retaining learned features\n",
    "    for layer in backbone.layers:\n",
    "        if not isinstance(layer, layers.BatchNormalization):\n",
    "            layer.trainable = False\n",
    "\n",
    "    # Extract feature maps from different levels of the ResNet backbone\n",
    "    level_1 = backbone.layers[5].output   # 128x128x64\n",
    "    level_2 = backbone.layers[37].output  # 64x64x64\n",
    "    level_3 = backbone.layers[74].output  # 32x32x128\n",
    "    level_4 = backbone.layers[129].output # 16x16x256\n",
    "    x = backbone.layers[157].output       # 8x8x512\n",
    "\n",
    "    # Decoder - Upsampling path with skip connections to encoder features\n",
    "    # First upsampling block\n",
    "    x = upsample(name='Up60')(x)\n",
    "    x = layers.Concatenate(name='Concat60')([level_4, x])\n",
    "    x = DefaultConv2D(256, kernel_initializer=kernel_initializer(91) , name='Conv60')(x)\n",
    "    x = residual_block(x, 256, kernel_initializer(47), '60')  # Apply residual block\n",
    "\n",
    "    # Second upsampling block\n",
    "    x = upsample(name='Up70')(x)\n",
    "    x = layers.Concatenate(name='Concat70')([level_3, x])\n",
    "    x = DefaultConv2D(128, kernel_initializer=kernel_initializer(21), name='Conv70')(x)\n",
    "    x = residual_block(x, 128, kernel_initializer(96), '70')  # Apply residual block\n",
    "\n",
    "    # Third upsampling block\n",
    "    x = upsample(name='Up80')(x)\n",
    "    x = layers.Concatenate(name='Concat80')([level_2, x])\n",
    "    x = DefaultConv2D(64, kernel_initializer=kernel_initializer(96), name='Conv80')(x)\n",
    "    x = residual_block(x, 64, kernel_initializer(98), '80')  # Apply residual block\n",
    "\n",
    "    # Fourth upsampling block\n",
    "    x = upsample(name='Up90')(x)\n",
    "    x = layers.Concatenate(name='Concat90')([level_1, x])\n",
    "    x = DefaultConv2D(32, kernel_initializer=kernel_initializer(35), name='Conv90')(x)\n",
    "    x = residual_block(x, 32, kernel_initializer(7), '90')  # Apply residual block\n",
    "\n",
    "    # Final upsampling block - connect back to input\n",
    "    x = upsample(name='Up100')(x)\n",
    "    x = layers.Concatenate(name='Concat100')([inputs, x])\n",
    "    x = DefaultConv2D(16, kernel_initializer=kernel_initializer(45), name='Conv100')(x)\n",
    "    x = residual_block(x, 16, kernel_initializer(7), '100')  # Apply residual block\n",
    "\n",
    "    # Final segmentation output with specified activation\n",
    "    if activation == 'sparse_softmax':\n",
    "        x = DefaultConv2D(out_channels, kernel_size=(1, 1), activation=sparse_softmax,\n",
    "                          kernel_initializer=kernel_initializer(42), name='Conv200')(x)\n",
    "    else:\n",
    "        x = DefaultConv2D(out_channels, kernel_size=(1, 1), activation=activation,\n",
    "                          kernel_initializer=kernel_initializer(42), name='Conv200')(x)\n",
    "\n",
    "    return x\n",
    "\n",
    "def Seg_Model(class_no=2, input_shape=(512, 512, 3), seg_model='ResUNet', activation='softmax'):\n",
    "    \n",
    "    # Input layer definition\n",
    "    image_input = layers.Input(shape=input_shape, name='image_input')\n",
    "\n",
    "    # Select and build the appropriate segmentation backbone\n",
    "    if seg_model == 'ResUNet':\n",
    "        # Use ResNet-based UNet architecture\n",
    "        seg_rm = ResUNet(image_input, input_shape, out_channels=class_no, activation=activation)\n",
    "    elif seg_model == 'UNet':\n",
    "        # Use standard UNet architecture\n",
    "        seg_rm = UNet(image_input, out_channels=class_no, activation=activation)\n",
    "    else:\n",
    "        # Raise error for unsupported model types\n",
    "        raise ValueError(f\"Unsupported segmentation model type: {seg_model}. Supported models are 'ResUNet' and 'UNet'.\")\n",
    "\n",
    "    # Create and return the final model\n",
    "    return Model(image_input, seg_rm, name=seg_model)"
   ]
  },
  {
   "cell_type": "code",
   "execution_count": 17,
   "metadata": {
    "execution": {
     "iopub.execute_input": "2025-04-04T01:56:22.338098Z",
     "iopub.status.busy": "2025-04-04T01:56:22.337803Z",
     "iopub.status.idle": "2025-04-04T01:56:26.393907Z",
     "shell.execute_reply": "2025-04-04T01:56:26.393234Z",
     "shell.execute_reply.started": "2025-04-04T01:56:22.338076Z"
    },
    "id": "8abtl5fwCVam",
    "outputId": "184ade9b-2897-4401-db91-0f1020dc3714",
    "trusted": true
   },
   "outputs": [
    {
     "name": "stdout",
     "output_type": "stream",
     "text": [
      "Downloading data from https://github.com/qubvel/classification_models/releases/download/0.0.1/resnet34_imagenet_1000_no_top.h5\n",
      "85521592/85521592 [==============================] - 1s 0us/step\n"
     ]
    }
   ],
   "source": [
    "with strategy.scope():\n",
    "    model = Seg_Model(class_no=config['Number of classes'],input_shape=config['Input size'], \n",
    "                 seg_model=config['Seg_model'], activation=config['Activation'])\n",
    "    model.compile(optimizer=keras.optimizers.Adam(learning_rate=1e-4),\n",
    "                  loss=DiceCoefficient(smooth=1e-7, target_class=None if config['Number of classes'] == 3 else 1),\n",
    "                  metrics=[dice_metric,jaccard_metric,sensitivity_metric,specificity_metric])"
   ]
  },
  {
   "cell_type": "markdown",
   "metadata": {},
   "source": [
    "### **Entrenamiento de la base de datos**"
   ]
  },
  {
   "cell_type": "code",
   "execution_count": 18,
   "metadata": {
    "execution": {
     "iopub.execute_input": "2025-04-04T01:56:41.576591Z",
     "iopub.status.busy": "2025-04-04T01:56:41.576244Z",
     "iopub.status.idle": "2025-04-04T02:23:18.168953Z",
     "shell.execute_reply": "2025-04-04T02:23:18.168122Z",
     "shell.execute_reply.started": "2025-04-04T01:56:41.576561Z"
    },
    "trusted": true
   },
   "outputs": [
    {
     "name": "stdout",
     "output_type": "stream",
     "text": [
      "Epoch 1/100\n",
      "11/11 [==============================] - 75s 3s/step - loss: -0.3946 - dice_metric: 0.5378 - jaccard_metric: 0.3850 - sensitivity_metric: 0.6508 - specificity_metric: 0.6508 - val_loss: -0.3736 - val_dice_metric: 0.2619 - val_jaccard_metric: 0.1594 - val_sensitivity_metric: 0.5336 - val_specificity_metric: 0.5336\n",
      "Epoch 2/100\n",
      "11/11 [==============================] - 16s 1s/step - loss: -0.6006 - dice_metric: 0.7324 - jaccard_metric: 0.6002 - sensitivity_metric: 0.7955 - specificity_metric: 0.7955 - val_loss: -0.1935 - val_dice_metric: 0.4319 - val_jaccard_metric: 0.3816 - val_sensitivity_metric: 0.4998 - val_specificity_metric: 0.4998\n",
      "Epoch 3/100\n",
      "11/11 [==============================] - 16s 1s/step - loss: -0.7174 - dice_metric: 0.8161 - jaccard_metric: 0.7067 - sensitivity_metric: 0.8454 - specificity_metric: 0.8454 - val_loss: -0.2066 - val_dice_metric: 0.4310 - val_jaccard_metric: 0.3792 - val_sensitivity_metric: 0.4963 - val_specificity_metric: 0.4963\n",
      "Epoch 4/100\n",
      "11/11 [==============================] - 15s 1s/step - loss: -0.7855 - dice_metric: 0.8619 - jaccard_metric: 0.7699 - sensitivity_metric: 0.8742 - specificity_metric: 0.8742 - val_loss: -0.0135 - val_dice_metric: 0.4320 - val_jaccard_metric: 0.3818 - val_sensitivity_metric: 0.5000 - val_specificity_metric: 0.5000\n",
      "Epoch 5/100\n",
      "11/11 [==============================] - 15s 1s/step - loss: -0.8333 - dice_metric: 0.8933 - jaccard_metric: 0.8158 - sensitivity_metric: 0.9014 - specificity_metric: 0.9014 - val_loss: -0.0103 - val_dice_metric: 0.4320 - val_jaccard_metric: 0.3818 - val_sensitivity_metric: 0.5000 - val_specificity_metric: 0.5000\n",
      "Epoch 6/100\n",
      "11/11 [==============================] - 16s 1s/step - loss: -0.8670 - dice_metric: 0.9155 - jaccard_metric: 0.8502 - sensitivity_metric: 0.9218 - specificity_metric: 0.9218 - val_loss: -0.0154 - val_dice_metric: 0.4320 - val_jaccard_metric: 0.3818 - val_sensitivity_metric: 0.5000 - val_specificity_metric: 0.5000\n",
      "Epoch 7/100\n",
      "11/11 [==============================] - 15s 1s/step - loss: -0.8954 - dice_metric: 0.9337 - jaccard_metric: 0.8798 - sensitivity_metric: 0.9353 - specificity_metric: 0.9353 - val_loss: -0.0047 - val_dice_metric: 0.4320 - val_jaccard_metric: 0.3817 - val_sensitivity_metric: 0.4999 - val_specificity_metric: 0.4999\n",
      "Epoch 8/100\n",
      "11/11 [==============================] - 16s 1s/step - loss: -0.9160 - dice_metric: 0.9471 - jaccard_metric: 0.9020 - sensitivity_metric: 0.9478 - specificity_metric: 0.9478 - val_loss: -0.0014 - val_dice_metric: 0.4320 - val_jaccard_metric: 0.3817 - val_sensitivity_metric: 0.4999 - val_specificity_metric: 0.4999\n",
      "Epoch 9/100\n",
      "11/11 [==============================] - 16s 1s/step - loss: -0.9235 - dice_metric: 0.9516 - jaccard_metric: 0.9097 - sensitivity_metric: 0.9528 - specificity_metric: 0.9528 - val_loss: -0.0031 - val_dice_metric: 0.4320 - val_jaccard_metric: 0.3817 - val_sensitivity_metric: 0.4999 - val_specificity_metric: 0.4999\n",
      "Epoch 10/100\n",
      "11/11 [==============================] - 14s 1s/step - loss: -0.9235 - dice_metric: 0.9519 - jaccard_metric: 0.9103 - sensitivity_metric: 0.9539 - specificity_metric: 0.9539 - val_loss: -0.1161 - val_dice_metric: 0.4730 - val_jaccard_metric: 0.4059 - val_sensitivity_metric: 0.5201 - val_specificity_metric: 0.5201\n",
      "Epoch 11/100\n",
      "11/11 [==============================] - 17s 1s/step - loss: -0.9205 - dice_metric: 0.9501 - jaccard_metric: 0.9070 - sensitivity_metric: 0.9498 - specificity_metric: 0.9498 - val_loss: -0.0481 - val_dice_metric: 0.4415 - val_jaccard_metric: 0.3870 - val_sensitivity_metric: 0.5041 - val_specificity_metric: 0.5041\n",
      "Epoch 12/100\n",
      "11/11 [==============================] - 15s 1s/step - loss: -0.9409 - dice_metric: 0.9631 - jaccard_metric: 0.9300 - sensitivity_metric: 0.9648 - specificity_metric: 0.9648 - val_loss: -0.0392 - val_dice_metric: 0.4381 - val_jaccard_metric: 0.3852 - val_sensitivity_metric: 0.5028 - val_specificity_metric: 0.5028\n",
      "Epoch 13/100\n",
      "11/11 [==============================] - 14s 1s/step - loss: -0.9548 - dice_metric: 0.9719 - jaccard_metric: 0.9460 - sensitivity_metric: 0.9716 - specificity_metric: 0.9716 - val_loss: -0.0748 - val_dice_metric: 0.4526 - val_jaccard_metric: 0.3936 - val_sensitivity_metric: 0.5099 - val_specificity_metric: 0.5099\n",
      "Epoch 14/100\n",
      "11/11 [==============================] - 14s 1s/step - loss: -0.9649 - dice_metric: 0.9782 - jaccard_metric: 0.9577 - sensitivity_metric: 0.9777 - specificity_metric: 0.9777 - val_loss: -0.0265 - val_dice_metric: 0.4342 - val_jaccard_metric: 0.3829 - val_sensitivity_metric: 0.5009 - val_specificity_metric: 0.5009\n",
      "Epoch 15/100\n",
      "11/11 [==============================] - 14s 1s/step - loss: -0.9690 - dice_metric: 0.9808 - jaccard_metric: 0.9626 - sensitivity_metric: 0.9806 - specificity_metric: 0.9806 - val_loss: -0.1039 - val_dice_metric: 0.4683 - val_jaccard_metric: 0.4039 - val_sensitivity_metric: 0.5187 - val_specificity_metric: 0.5187\n",
      "Epoch 16/100\n",
      "11/11 [==============================] - 15s 1s/step - loss: -0.9718 - dice_metric: 0.9826 - jaccard_metric: 0.9660 - sensitivity_metric: 0.9820 - specificity_metric: 0.9820 - val_loss: -0.1010 - val_dice_metric: 0.4746 - val_jaccard_metric: 0.4086 - val_sensitivity_metric: 0.5229 - val_specificity_metric: 0.5229\n",
      "Epoch 17/100\n",
      "11/11 [==============================] - 15s 1s/step - loss: -0.9709 - dice_metric: 0.9820 - jaccard_metric: 0.9649 - sensitivity_metric: 0.9816 - specificity_metric: 0.9816 - val_loss: -0.2629 - val_dice_metric: 0.5750 - val_jaccard_metric: 0.4775 - val_sensitivity_metric: 0.5830 - val_specificity_metric: 0.5830\n",
      "Epoch 18/100\n",
      "11/11 [==============================] - 15s 1s/step - loss: -0.9694 - dice_metric: 0.9810 - jaccard_metric: 0.9630 - sensitivity_metric: 0.9809 - specificity_metric: 0.9809 - val_loss: -0.0858 - val_dice_metric: 0.4620 - val_jaccard_metric: 0.3997 - val_sensitivity_metric: 0.5152 - val_specificity_metric: 0.5152\n",
      "Epoch 19/100\n",
      "11/11 [==============================] - 15s 1s/step - loss: -0.9626 - dice_metric: 0.9764 - jaccard_metric: 0.9545 - sensitivity_metric: 0.9767 - specificity_metric: 0.9767 - val_loss: -3.7117e-04 - val_dice_metric: 0.4320 - val_jaccard_metric: 0.3817 - val_sensitivity_metric: 0.4999 - val_specificity_metric: 0.4999\n",
      "Epoch 20/100\n",
      "11/11 [==============================] - 16s 1s/step - loss: -0.9578 - dice_metric: 0.9736 - jaccard_metric: 0.9494 - sensitivity_metric: 0.9782 - specificity_metric: 0.9782 - val_loss: -0.0032 - val_dice_metric: 0.4319 - val_jaccard_metric: 0.3816 - val_sensitivity_metric: 0.4997 - val_specificity_metric: 0.4997\n",
      "Epoch 21/100\n",
      "11/11 [==============================] - 16s 1s/step - loss: -0.9491 - dice_metric: 0.9684 - jaccard_metric: 0.9401 - sensitivity_metric: 0.9708 - specificity_metric: 0.9708 - val_loss: -0.2568 - val_dice_metric: 0.5671 - val_jaccard_metric: 0.4640 - val_sensitivity_metric: 0.5729 - val_specificity_metric: 0.5729\n",
      "Epoch 22/100\n",
      "11/11 [==============================] - 14s 1s/step - loss: -0.9643 - dice_metric: 0.9779 - jaccard_metric: 0.9572 - sensitivity_metric: 0.9748 - specificity_metric: 0.9748 - val_loss: -0.2579 - val_dice_metric: 0.5640 - val_jaccard_metric: 0.4623 - val_sensitivity_metric: 0.5715 - val_specificity_metric: 0.5715\n",
      "Epoch 23/100\n",
      "11/11 [==============================] - 16s 1s/step - loss: -0.9745 - dice_metric: 0.9843 - jaccard_metric: 0.9694 - sensitivity_metric: 0.9842 - specificity_metric: 0.9842 - val_loss: -0.2107 - val_dice_metric: 0.5491 - val_jaccard_metric: 0.4545 - val_sensitivity_metric: 0.5625 - val_specificity_metric: 0.5625\n",
      "Epoch 24/100\n",
      "11/11 [==============================] - 15s 1s/step - loss: -0.9797 - dice_metric: 0.9875 - jaccard_metric: 0.9754 - sensitivity_metric: 0.9886 - specificity_metric: 0.9886 - val_loss: -0.2322 - val_dice_metric: 0.5658 - val_jaccard_metric: 0.4650 - val_sensitivity_metric: 0.5726 - val_specificity_metric: 0.5726\n",
      "Epoch 25/100\n",
      "11/11 [==============================] - 14s 1s/step - loss: -0.9818 - dice_metric: 0.9888 - jaccard_metric: 0.9779 - sensitivity_metric: 0.9890 - specificity_metric: 0.9890 - val_loss: -0.2505 - val_dice_metric: 0.5741 - val_jaccard_metric: 0.4686 - val_sensitivity_metric: 0.5774 - val_specificity_metric: 0.5774\n",
      "Epoch 26/100\n",
      "11/11 [==============================] - 15s 1s/step - loss: -0.9837 - dice_metric: 0.9900 - jaccard_metric: 0.9802 - sensitivity_metric: 0.9897 - specificity_metric: 0.9897 - val_loss: -0.2338 - val_dice_metric: 0.5668 - val_jaccard_metric: 0.4640 - val_sensitivity_metric: 0.5724 - val_specificity_metric: 0.5724\n",
      "Epoch 27/100\n",
      "11/11 [==============================] - 15s 1s/step - loss: -0.9847 - dice_metric: 0.9907 - jaccard_metric: 0.9815 - sensitivity_metric: 0.9906 - specificity_metric: 0.9906 - val_loss: -0.1779 - val_dice_metric: 0.5308 - val_jaccard_metric: 0.4418 - val_sensitivity_metric: 0.5508 - val_specificity_metric: 0.5508\n",
      "Epoch 28/100\n",
      "11/11 [==============================] - 15s 1s/step - loss: -0.9854 - dice_metric: 0.9911 - jaccard_metric: 0.9823 - sensitivity_metric: 0.9915 - specificity_metric: 0.9915 - val_loss: -0.1397 - val_dice_metric: 0.5068 - val_jaccard_metric: 0.4270 - val_sensitivity_metric: 0.5379 - val_specificity_metric: 0.5379\n",
      "Epoch 29/100\n",
      "11/11 [==============================] - 15s 1s/step - loss: -0.9848 - dice_metric: 0.9906 - jaccard_metric: 0.9815 - sensitivity_metric: 0.9913 - specificity_metric: 0.9913 - val_loss: -0.2088 - val_dice_metric: 0.5577 - val_jaccard_metric: 0.4587 - val_sensitivity_metric: 0.5667 - val_specificity_metric: 0.5667\n",
      "Epoch 30/100\n",
      "11/11 [==============================] - 15s 1s/step - loss: -0.9844 - dice_metric: 0.9903 - jaccard_metric: 0.9809 - sensitivity_metric: 0.9904 - specificity_metric: 0.9904 - val_loss: -0.2084 - val_dice_metric: 0.5528 - val_jaccard_metric: 0.4566 - val_sensitivity_metric: 0.5648 - val_specificity_metric: 0.5648\n",
      "Learning rate changed to 1e-05 at epoch 30\n",
      "Epoch 31/100\n",
      "11/11 [==============================] - 14s 1s/step - loss: -0.9844 - dice_metric: 0.9905 - jaccard_metric: 0.9812 - sensitivity_metric: 0.9910 - specificity_metric: 0.9910 - val_loss: -0.1884 - val_dice_metric: 0.5368 - val_jaccard_metric: 0.4469 - val_sensitivity_metric: 0.5558 - val_specificity_metric: 0.5558\n",
      "Epoch 32/100\n",
      "11/11 [==============================] - 16s 1s/step - loss: -0.9867 - dice_metric: 0.9919 - jaccard_metric: 0.9840 - sensitivity_metric: 0.9921 - specificity_metric: 0.9921 - val_loss: -0.1631 - val_dice_metric: 0.5148 - val_jaccard_metric: 0.4342 - val_sensitivity_metric: 0.5445 - val_specificity_metric: 0.5445\n",
      "Epoch 33/100\n",
      "11/11 [==============================] - 15s 1s/step - loss: -0.9873 - dice_metric: 0.9923 - jaccard_metric: 0.9847 - sensitivity_metric: 0.9923 - specificity_metric: 0.9923 - val_loss: -0.1590 - val_dice_metric: 0.5157 - val_jaccard_metric: 0.4365 - val_sensitivity_metric: 0.5464 - val_specificity_metric: 0.5464\n",
      "Epoch 34/100\n",
      "11/11 [==============================] - 16s 1s/step - loss: -0.9876 - dice_metric: 0.9925 - jaccard_metric: 0.9852 - sensitivity_metric: 0.9927 - specificity_metric: 0.9927 - val_loss: -0.1628 - val_dice_metric: 0.5227 - val_jaccard_metric: 0.4416 - val_sensitivity_metric: 0.5508 - val_specificity_metric: 0.5508\n",
      "Epoch 35/100\n",
      "11/11 [==============================] - 16s 1s/step - loss: -0.9877 - dice_metric: 0.9926 - jaccard_metric: 0.9853 - sensitivity_metric: 0.9928 - specificity_metric: 0.9928 - val_loss: -0.1615 - val_dice_metric: 0.5266 - val_jaccard_metric: 0.4449 - val_sensitivity_metric: 0.5540 - val_specificity_metric: 0.5540\n",
      "Epoch 36/100\n",
      "11/11 [==============================] - 15s 1s/step - loss: -0.9879 - dice_metric: 0.9927 - jaccard_metric: 0.9855 - sensitivity_metric: 0.9929 - specificity_metric: 0.9929 - val_loss: -0.1589 - val_dice_metric: 0.5257 - val_jaccard_metric: 0.4445 - val_sensitivity_metric: 0.5538 - val_specificity_metric: 0.5538\n",
      "Epoch 37/100\n",
      "11/11 [==============================] - 14s 1s/step - loss: -0.9880 - dice_metric: 0.9928 - jaccard_metric: 0.9857 - sensitivity_metric: 0.9929 - specificity_metric: 0.9929 - val_loss: -0.1638 - val_dice_metric: 0.5258 - val_jaccard_metric: 0.4431 - val_sensitivity_metric: 0.5524 - val_specificity_metric: 0.5524\n",
      "Epoch 38/100\n",
      "11/11 [==============================] - 15s 1s/step - loss: -0.9881 - dice_metric: 0.9928 - jaccard_metric: 0.9858 - sensitivity_metric: 0.9930 - specificity_metric: 0.9930 - val_loss: -0.1708 - val_dice_metric: 0.5282 - val_jaccard_metric: 0.4431 - val_sensitivity_metric: 0.5521 - val_specificity_metric: 0.5521\n",
      "Epoch 39/100\n",
      "11/11 [==============================] - 16s 1s/step - loss: -0.9881 - dice_metric: 0.9929 - jaccard_metric: 0.9859 - sensitivity_metric: 0.9931 - specificity_metric: 0.9931 - val_loss: -0.1785 - val_dice_metric: 0.5345 - val_jaccard_metric: 0.4468 - val_sensitivity_metric: 0.5551 - val_specificity_metric: 0.5551\n",
      "Epoch 40/100\n",
      "11/11 [==============================] - 14s 1s/step - loss: -0.9882 - dice_metric: 0.9929 - jaccard_metric: 0.9860 - sensitivity_metric: 0.9931 - specificity_metric: 0.9931 - val_loss: -0.1876 - val_dice_metric: 0.5387 - val_jaccard_metric: 0.4495 - val_sensitivity_metric: 0.5573 - val_specificity_metric: 0.5573\n",
      "Epoch 41/100\n",
      "11/11 [==============================] - 15s 1s/step - loss: -0.9883 - dice_metric: 0.9930 - jaccard_metric: 0.9861 - sensitivity_metric: 0.9932 - specificity_metric: 0.9932 - val_loss: -0.1962 - val_dice_metric: 0.5447 - val_jaccard_metric: 0.4538 - val_sensitivity_metric: 0.5611 - val_specificity_metric: 0.5611\n",
      "Epoch 42/100\n",
      "11/11 [==============================] - 16s 1s/step - loss: -0.9884 - dice_metric: 0.9930 - jaccard_metric: 0.9862 - sensitivity_metric: 0.9932 - specificity_metric: 0.9932 - val_loss: -0.2050 - val_dice_metric: 0.5493 - val_jaccard_metric: 0.4573 - val_sensitivity_metric: 0.5643 - val_specificity_metric: 0.5643\n",
      "Epoch 43/100\n",
      "11/11 [==============================] - 14s 1s/step - loss: -0.9884 - dice_metric: 0.9931 - jaccard_metric: 0.9863 - sensitivity_metric: 0.9933 - specificity_metric: 0.9933 - val_loss: -0.2139 - val_dice_metric: 0.5537 - val_jaccard_metric: 0.4605 - val_sensitivity_metric: 0.5670 - val_specificity_metric: 0.5670\n",
      "Epoch 44/100\n",
      "11/11 [==============================] - 15s 1s/step - loss: -0.9885 - dice_metric: 0.9931 - jaccard_metric: 0.9864 - sensitivity_metric: 0.9933 - specificity_metric: 0.9933 - val_loss: -0.2168 - val_dice_metric: 0.5550 - val_jaccard_metric: 0.4613 - val_sensitivity_metric: 0.5678 - val_specificity_metric: 0.5678\n",
      "Epoch 45/100\n",
      "11/11 [==============================] - 15s 1s/step - loss: -0.9885 - dice_metric: 0.9932 - jaccard_metric: 0.9864 - sensitivity_metric: 0.9933 - specificity_metric: 0.9933 - val_loss: -0.2213 - val_dice_metric: 0.5558 - val_jaccard_metric: 0.4616 - val_sensitivity_metric: 0.5685 - val_specificity_metric: 0.5685\n",
      "Epoch 46/100\n",
      "11/11 [==============================] - 17s 1s/step - loss: -0.9886 - dice_metric: 0.9932 - jaccard_metric: 0.9865 - sensitivity_metric: 0.9934 - specificity_metric: 0.9934 - val_loss: -0.2326 - val_dice_metric: 0.5612 - val_jaccard_metric: 0.4659 - val_sensitivity_metric: 0.5722 - val_specificity_metric: 0.5722\n",
      "Epoch 47/100\n",
      "11/11 [==============================] - 17s 2s/step - loss: -0.9887 - dice_metric: 0.9932 - jaccard_metric: 0.9866 - sensitivity_metric: 0.9934 - specificity_metric: 0.9934 - val_loss: -0.2472 - val_dice_metric: 0.5679 - val_jaccard_metric: 0.4716 - val_sensitivity_metric: 0.5769 - val_specificity_metric: 0.5769\n",
      "Epoch 48/100\n",
      "11/11 [==============================] - 15s 1s/step - loss: -0.9887 - dice_metric: 0.9933 - jaccard_metric: 0.9867 - sensitivity_metric: 0.9935 - specificity_metric: 0.9935 - val_loss: -0.2658 - val_dice_metric: 0.5751 - val_jaccard_metric: 0.4780 - val_sensitivity_metric: 0.5825 - val_specificity_metric: 0.5825\n",
      "Epoch 49/100\n",
      "11/11 [==============================] - 14s 1s/step - loss: -0.9888 - dice_metric: 0.9933 - jaccard_metric: 0.9868 - sensitivity_metric: 0.9935 - specificity_metric: 0.9935 - val_loss: -0.2896 - val_dice_metric: 0.5851 - val_jaccard_metric: 0.4868 - val_sensitivity_metric: 0.5906 - val_specificity_metric: 0.5906\n",
      "Epoch 50/100\n",
      "11/11 [==============================] - 15s 1s/step - loss: -0.9888 - dice_metric: 0.9934 - jaccard_metric: 0.9868 - sensitivity_metric: 0.9935 - specificity_metric: 0.9935 - val_loss: -0.3186 - val_dice_metric: 0.5985 - val_jaccard_metric: 0.4990 - val_sensitivity_metric: 0.6018 - val_specificity_metric: 0.6018\n",
      "Epoch 51/100\n",
      "11/11 [==============================] - 14s 1s/step - loss: -0.9889 - dice_metric: 0.9934 - jaccard_metric: 0.9869 - sensitivity_metric: 0.9936 - specificity_metric: 0.9936 - val_loss: -0.3486 - val_dice_metric: 0.6125 - val_jaccard_metric: 0.5122 - val_sensitivity_metric: 0.6141 - val_specificity_metric: 0.6141\n",
      "Epoch 52/100\n",
      "11/11 [==============================] - 14s 1s/step - loss: -0.9890 - dice_metric: 0.9934 - jaccard_metric: 0.9870 - sensitivity_metric: 0.9936 - specificity_metric: 0.9936 - val_loss: -0.3786 - val_dice_metric: 0.6261 - val_jaccard_metric: 0.5251 - val_sensitivity_metric: 0.6260 - val_specificity_metric: 0.6260\n",
      "Epoch 53/100\n",
      "11/11 [==============================] - 14s 1s/step - loss: -0.9890 - dice_metric: 0.9935 - jaccard_metric: 0.9870 - sensitivity_metric: 0.9937 - specificity_metric: 0.9937 - val_loss: -0.4084 - val_dice_metric: 0.6379 - val_jaccard_metric: 0.5360 - val_sensitivity_metric: 0.6354 - val_specificity_metric: 0.6354\n",
      "Epoch 54/100\n",
      "11/11 [==============================] - 15s 1s/step - loss: -0.9891 - dice_metric: 0.9935 - jaccard_metric: 0.9871 - sensitivity_metric: 0.9937 - specificity_metric: 0.9937 - val_loss: -0.4396 - val_dice_metric: 0.6520 - val_jaccard_metric: 0.5489 - val_sensitivity_metric: 0.6469 - val_specificity_metric: 0.6469\n",
      "Epoch 55/100\n",
      "11/11 [==============================] - 15s 1s/step - loss: -0.9891 - dice_metric: 0.9935 - jaccard_metric: 0.9872 - sensitivity_metric: 0.9937 - specificity_metric: 0.9937 - val_loss: -0.4762 - val_dice_metric: 0.6718 - val_jaccard_metric: 0.5666 - val_sensitivity_metric: 0.6629 - val_specificity_metric: 0.6629\n",
      "Epoch 56/100\n",
      "11/11 [==============================] - 16s 1s/step - loss: -0.9892 - dice_metric: 0.9936 - jaccard_metric: 0.9873 - sensitivity_metric: 0.9938 - specificity_metric: 0.9938 - val_loss: -0.5157 - val_dice_metric: 0.6957 - val_jaccard_metric: 0.5878 - val_sensitivity_metric: 0.6816 - val_specificity_metric: 0.6816\n",
      "Epoch 57/100\n",
      "11/11 [==============================] - 15s 1s/step - loss: -0.9892 - dice_metric: 0.9936 - jaccard_metric: 0.9873 - sensitivity_metric: 0.9938 - specificity_metric: 0.9938 - val_loss: -0.5491 - val_dice_metric: 0.7193 - val_jaccard_metric: 0.6103 - val_sensitivity_metric: 0.7012 - val_specificity_metric: 0.7012\n",
      "Epoch 58/100\n",
      "11/11 [==============================] - 15s 1s/step - loss: -0.9893 - dice_metric: 0.9936 - jaccard_metric: 0.9874 - sensitivity_metric: 0.9938 - specificity_metric: 0.9938 - val_loss: -0.5815 - val_dice_metric: 0.7424 - val_jaccard_metric: 0.6331 - val_sensitivity_metric: 0.7208 - val_specificity_metric: 0.7208\n",
      "Epoch 59/100\n",
      "11/11 [==============================] - 16s 1s/step - loss: -0.9893 - dice_metric: 0.9937 - jaccard_metric: 0.9875 - sensitivity_metric: 0.9939 - specificity_metric: 0.9939 - val_loss: -0.6103 - val_dice_metric: 0.7611 - val_jaccard_metric: 0.6515 - val_sensitivity_metric: 0.7368 - val_specificity_metric: 0.7368\n",
      "Epoch 60/100\n",
      "11/11 [==============================] - 15s 1s/step - loss: -0.9894 - dice_metric: 0.9937 - jaccard_metric: 0.9875 - sensitivity_metric: 0.9939 - specificity_metric: 0.9939 - val_loss: -0.6357 - val_dice_metric: 0.7767 - val_jaccard_metric: 0.6684 - val_sensitivity_metric: 0.7515 - val_specificity_metric: 0.7515\n",
      "Epoch 61/100\n",
      "11/11 [==============================] - 14s 1s/step - loss: -0.9894 - dice_metric: 0.9937 - jaccard_metric: 0.9876 - sensitivity_metric: 0.9939 - specificity_metric: 0.9939 - val_loss: -0.6576 - val_dice_metric: 0.7893 - val_jaccard_metric: 0.6825 - val_sensitivity_metric: 0.7636 - val_specificity_metric: 0.7636\n",
      "Epoch 62/100\n",
      "11/11 [==============================] - 15s 1s/step - loss: -0.9895 - dice_metric: 0.9938 - jaccard_metric: 0.9877 - sensitivity_metric: 0.9940 - specificity_metric: 0.9940 - val_loss: -0.6772 - val_dice_metric: 0.8024 - val_jaccard_metric: 0.6975 - val_sensitivity_metric: 0.7764 - val_specificity_metric: 0.7764\n",
      "Epoch 63/100\n",
      "11/11 [==============================] - 15s 1s/step - loss: -0.9895 - dice_metric: 0.9938 - jaccard_metric: 0.9877 - sensitivity_metric: 0.9940 - specificity_metric: 0.9940 - val_loss: -0.6986 - val_dice_metric: 0.8150 - val_jaccard_metric: 0.7130 - val_sensitivity_metric: 0.7901 - val_specificity_metric: 0.7901\n",
      "Epoch 64/100\n",
      "11/11 [==============================] - 15s 1s/step - loss: -0.9896 - dice_metric: 0.9938 - jaccard_metric: 0.9878 - sensitivity_metric: 0.9940 - specificity_metric: 0.9940 - val_loss: -0.7204 - val_dice_metric: 0.8267 - val_jaccard_metric: 0.7274 - val_sensitivity_metric: 0.8028 - val_specificity_metric: 0.8028\n",
      "Epoch 65/100\n",
      "11/11 [==============================] - 15s 1s/step - loss: -0.9896 - dice_metric: 0.9939 - jaccard_metric: 0.9879 - sensitivity_metric: 0.9941 - specificity_metric: 0.9941 - val_loss: -0.7424 - val_dice_metric: 0.8382 - val_jaccard_metric: 0.7417 - val_sensitivity_metric: 0.8152 - val_specificity_metric: 0.8152\n",
      "Epoch 66/100\n",
      "11/11 [==============================] - 14s 1s/step - loss: -0.9897 - dice_metric: 0.9939 - jaccard_metric: 0.9879 - sensitivity_metric: 0.9941 - specificity_metric: 0.9941 - val_loss: -0.7651 - val_dice_metric: 0.8503 - val_jaccard_metric: 0.7574 - val_sensitivity_metric: 0.8291 - val_specificity_metric: 0.8291\n",
      "Epoch 67/100\n",
      "11/11 [==============================] - 14s 1s/step - loss: -0.9897 - dice_metric: 0.9939 - jaccard_metric: 0.9880 - sensitivity_metric: 0.9941 - specificity_metric: 0.9941 - val_loss: -0.7850 - val_dice_metric: 0.8617 - val_jaccard_metric: 0.7723 - val_sensitivity_metric: 0.8419 - val_specificity_metric: 0.8419\n",
      "Epoch 68/100\n",
      "11/11 [==============================] - 14s 1s/step - loss: -0.9898 - dice_metric: 0.9940 - jaccard_metric: 0.9880 - sensitivity_metric: 0.9942 - specificity_metric: 0.9942 - val_loss: -0.8031 - val_dice_metric: 0.8703 - val_jaccard_metric: 0.7837 - val_sensitivity_metric: 0.8517 - val_specificity_metric: 0.8517\n",
      "Epoch 69/100\n",
      "11/11 [==============================] - 14s 1s/step - loss: -0.9898 - dice_metric: 0.9940 - jaccard_metric: 0.9881 - sensitivity_metric: 0.9942 - specificity_metric: 0.9942 - val_loss: -0.8193 - val_dice_metric: 0.8775 - val_jaccard_metric: 0.7940 - val_sensitivity_metric: 0.8605 - val_specificity_metric: 0.8605\n",
      "Epoch 70/100\n",
      "11/11 [==============================] - 14s 1s/step - loss: -0.9899 - dice_metric: 0.9940 - jaccard_metric: 0.9882 - sensitivity_metric: 0.9942 - specificity_metric: 0.9942 - val_loss: -0.8341 - val_dice_metric: 0.8850 - val_jaccard_metric: 0.8052 - val_sensitivity_metric: 0.8694 - val_specificity_metric: 0.8694\n",
      "Epoch 71/100\n",
      "11/11 [==============================] - 15s 1s/step - loss: -0.9899 - dice_metric: 0.9941 - jaccard_metric: 0.9882 - sensitivity_metric: 0.9943 - specificity_metric: 0.9943 - val_loss: -0.8470 - val_dice_metric: 0.8934 - val_jaccard_metric: 0.8176 - val_sensitivity_metric: 0.8794 - val_specificity_metric: 0.8794\n",
      "Epoch 72/100\n",
      "11/11 [==============================] - 15s 1s/step - loss: -0.9900 - dice_metric: 0.9941 - jaccard_metric: 0.9883 - sensitivity_metric: 0.9943 - specificity_metric: 0.9943 - val_loss: -0.8590 - val_dice_metric: 0.9024 - val_jaccard_metric: 0.8308 - val_sensitivity_metric: 0.8899 - val_specificity_metric: 0.8899\n",
      "Epoch 73/100\n",
      "11/11 [==============================] - 16s 1s/step - loss: -0.9900 - dice_metric: 0.9941 - jaccard_metric: 0.9883 - sensitivity_metric: 0.9943 - specificity_metric: 0.9943 - val_loss: -0.8681 - val_dice_metric: 0.9089 - val_jaccard_metric: 0.8406 - val_sensitivity_metric: 0.8979 - val_specificity_metric: 0.8979\n",
      "Epoch 74/100\n",
      "11/11 [==============================] - 14s 1s/step - loss: -0.9901 - dice_metric: 0.9942 - jaccard_metric: 0.9884 - sensitivity_metric: 0.9943 - specificity_metric: 0.9943 - val_loss: -0.8754 - val_dice_metric: 0.9132 - val_jaccard_metric: 0.8471 - val_sensitivity_metric: 0.9035 - val_specificity_metric: 0.9035\n",
      "Epoch 75/100\n",
      "11/11 [==============================] - 15s 1s/step - loss: -0.9901 - dice_metric: 0.9942 - jaccard_metric: 0.9885 - sensitivity_metric: 0.9944 - specificity_metric: 0.9944 - val_loss: -0.8817 - val_dice_metric: 0.9168 - val_jaccard_metric: 0.8527 - val_sensitivity_metric: 0.9079 - val_specificity_metric: 0.9079\n",
      "Epoch 76/100\n",
      "11/11 [==============================] - 15s 1s/step - loss: -0.9902 - dice_metric: 0.9942 - jaccard_metric: 0.9885 - sensitivity_metric: 0.9944 - specificity_metric: 0.9944 - val_loss: -0.8862 - val_dice_metric: 0.9200 - val_jaccard_metric: 0.8577 - val_sensitivity_metric: 0.9111 - val_specificity_metric: 0.9111\n",
      "Epoch 77/100\n",
      "11/11 [==============================] - 15s 1s/step - loss: -0.9902 - dice_metric: 0.9942 - jaccard_metric: 0.9886 - sensitivity_metric: 0.9944 - specificity_metric: 0.9944 - val_loss: -0.8903 - val_dice_metric: 0.9229 - val_jaccard_metric: 0.8625 - val_sensitivity_metric: 0.9140 - val_specificity_metric: 0.9140\n",
      "Epoch 78/100\n",
      "11/11 [==============================] - 15s 1s/step - loss: -0.9903 - dice_metric: 0.9943 - jaccard_metric: 0.9886 - sensitivity_metric: 0.9945 - specificity_metric: 0.9945 - val_loss: -0.8955 - val_dice_metric: 0.9273 - val_jaccard_metric: 0.8696 - val_sensitivity_metric: 0.9184 - val_specificity_metric: 0.9184\n",
      "Epoch 79/100\n",
      "11/11 [==============================] - 15s 1s/step - loss: -0.9903 - dice_metric: 0.9943 - jaccard_metric: 0.9887 - sensitivity_metric: 0.9945 - specificity_metric: 0.9945 - val_loss: -0.8996 - val_dice_metric: 0.9311 - val_jaccard_metric: 0.8757 - val_sensitivity_metric: 0.9218 - val_specificity_metric: 0.9218\n",
      "Epoch 80/100\n",
      "11/11 [==============================] - 16s 1s/step - loss: -0.9904 - dice_metric: 0.9943 - jaccard_metric: 0.9888 - sensitivity_metric: 0.9945 - specificity_metric: 0.9945 - val_loss: -0.9023 - val_dice_metric: 0.9334 - val_jaccard_metric: 0.8797 - val_sensitivity_metric: 0.9241 - val_specificity_metric: 0.9241\n",
      "Epoch 81/100\n",
      "11/11 [==============================] - 16s 1s/step - loss: -0.9904 - dice_metric: 0.9944 - jaccard_metric: 0.9888 - sensitivity_metric: 0.9946 - specificity_metric: 0.9946 - val_loss: -0.9053 - val_dice_metric: 0.9354 - val_jaccard_metric: 0.8830 - val_sensitivity_metric: 0.9263 - val_specificity_metric: 0.9263\n",
      "Epoch 82/100\n",
      "11/11 [==============================] - 16s 1s/step - loss: -0.9904 - dice_metric: 0.9944 - jaccard_metric: 0.9889 - sensitivity_metric: 0.9946 - specificity_metric: 0.9946 - val_loss: -0.9084 - val_dice_metric: 0.9375 - val_jaccard_metric: 0.8866 - val_sensitivity_metric: 0.9287 - val_specificity_metric: 0.9287\n",
      "Epoch 83/100\n",
      "11/11 [==============================] - 14s 1s/step - loss: -0.9905 - dice_metric: 0.9944 - jaccard_metric: 0.9889 - sensitivity_metric: 0.9946 - specificity_metric: 0.9946 - val_loss: -0.9116 - val_dice_metric: 0.9401 - val_jaccard_metric: 0.8909 - val_sensitivity_metric: 0.9313 - val_specificity_metric: 0.9313\n",
      "Epoch 84/100\n",
      "11/11 [==============================] - 14s 1s/step - loss: -0.9905 - dice_metric: 0.9944 - jaccard_metric: 0.9890 - sensitivity_metric: 0.9946 - specificity_metric: 0.9946 - val_loss: -0.9148 - val_dice_metric: 0.9425 - val_jaccard_metric: 0.8948 - val_sensitivity_metric: 0.9339 - val_specificity_metric: 0.9339\n",
      "Epoch 85/100\n",
      "11/11 [==============================] - 16s 1s/step - loss: -0.9906 - dice_metric: 0.9945 - jaccard_metric: 0.9890 - sensitivity_metric: 0.9947 - specificity_metric: 0.9947 - val_loss: -0.9185 - val_dice_metric: 0.9449 - val_jaccard_metric: 0.8987 - val_sensitivity_metric: 0.9363 - val_specificity_metric: 0.9363\n",
      "Epoch 86/100\n",
      "11/11 [==============================] - 16s 1s/step - loss: -0.9906 - dice_metric: 0.9945 - jaccard_metric: 0.9891 - sensitivity_metric: 0.9947 - specificity_metric: 0.9947 - val_loss: -0.9224 - val_dice_metric: 0.9472 - val_jaccard_metric: 0.9027 - val_sensitivity_metric: 0.9389 - val_specificity_metric: 0.9389\n",
      "Epoch 87/100\n",
      "11/11 [==============================] - 14s 1s/step - loss: -0.9907 - dice_metric: 0.9945 - jaccard_metric: 0.9891 - sensitivity_metric: 0.9947 - specificity_metric: 0.9947 - val_loss: -0.9246 - val_dice_metric: 0.9485 - val_jaccard_metric: 0.9048 - val_sensitivity_metric: 0.9405 - val_specificity_metric: 0.9405\n",
      "Epoch 88/100\n",
      "11/11 [==============================] - 15s 1s/step - loss: -0.9907 - dice_metric: 0.9946 - jaccard_metric: 0.9892 - sensitivity_metric: 0.9948 - specificity_metric: 0.9948 - val_loss: -0.9258 - val_dice_metric: 0.9488 - val_jaccard_metric: 0.9054 - val_sensitivity_metric: 0.9412 - val_specificity_metric: 0.9412\n",
      "Epoch 89/100\n",
      "11/11 [==============================] - 17s 2s/step - loss: -0.9907 - dice_metric: 0.9946 - jaccard_metric: 0.9892 - sensitivity_metric: 0.9948 - specificity_metric: 0.9948 - val_loss: -0.9270 - val_dice_metric: 0.9490 - val_jaccard_metric: 0.9058 - val_sensitivity_metric: 0.9416 - val_specificity_metric: 0.9416\n",
      "Epoch 90/100\n",
      "11/11 [==============================] - 16s 1s/step - loss: -0.9908 - dice_metric: 0.9946 - jaccard_metric: 0.9893 - sensitivity_metric: 0.9948 - specificity_metric: 0.9948 - val_loss: -0.9278 - val_dice_metric: 0.9492 - val_jaccard_metric: 0.9062 - val_sensitivity_metric: 0.9419 - val_specificity_metric: 0.9419\n",
      "Epoch 91/100\n",
      "11/11 [==============================] - 16s 1s/step - loss: -0.9908 - dice_metric: 0.9946 - jaccard_metric: 0.9894 - sensitivity_metric: 0.9948 - specificity_metric: 0.9948 - val_loss: -0.9286 - val_dice_metric: 0.9496 - val_jaccard_metric: 0.9069 - val_sensitivity_metric: 0.9425 - val_specificity_metric: 0.9425\n",
      "Epoch 92/100\n",
      "11/11 [==============================] - 16s 1s/step - loss: -0.9909 - dice_metric: 0.9947 - jaccard_metric: 0.9894 - sensitivity_metric: 0.9949 - specificity_metric: 0.9949 - val_loss: -0.9294 - val_dice_metric: 0.9506 - val_jaccard_metric: 0.9086 - val_sensitivity_metric: 0.9437 - val_specificity_metric: 0.9437\n",
      "Epoch 93/100\n",
      "11/11 [==============================] - 17s 1s/step - loss: -0.9909 - dice_metric: 0.9947 - jaccard_metric: 0.9895 - sensitivity_metric: 0.9949 - specificity_metric: 0.9949 - val_loss: -0.9306 - val_dice_metric: 0.9519 - val_jaccard_metric: 0.9107 - val_sensitivity_metric: 0.9455 - val_specificity_metric: 0.9455\n",
      "Epoch 94/100\n",
      "11/11 [==============================] - 15s 1s/step - loss: -0.9910 - dice_metric: 0.9947 - jaccard_metric: 0.9895 - sensitivity_metric: 0.9949 - specificity_metric: 0.9949 - val_loss: -0.9319 - val_dice_metric: 0.9528 - val_jaccard_metric: 0.9124 - val_sensitivity_metric: 0.9469 - val_specificity_metric: 0.9469\n",
      "Epoch 95/100\n",
      "11/11 [==============================] - 18s 2s/step - loss: -0.9910 - dice_metric: 0.9947 - jaccard_metric: 0.9896 - sensitivity_metric: 0.9949 - specificity_metric: 0.9949 - val_loss: -0.9327 - val_dice_metric: 0.9532 - val_jaccard_metric: 0.9131 - val_sensitivity_metric: 0.9475 - val_specificity_metric: 0.9475\n",
      "Epoch 96/100\n",
      "11/11 [==============================] - 15s 1s/step - loss: -0.9910 - dice_metric: 0.9948 - jaccard_metric: 0.9896 - sensitivity_metric: 0.9950 - specificity_metric: 0.9950 - val_loss: -0.9330 - val_dice_metric: 0.9532 - val_jaccard_metric: 0.9131 - val_sensitivity_metric: 0.9475 - val_specificity_metric: 0.9475\n",
      "Epoch 97/100\n",
      "11/11 [==============================] - 16s 1s/step - loss: -0.9911 - dice_metric: 0.9948 - jaccard_metric: 0.9897 - sensitivity_metric: 0.9950 - specificity_metric: 0.9950 - val_loss: -0.9333 - val_dice_metric: 0.9535 - val_jaccard_metric: 0.9136 - val_sensitivity_metric: 0.9479 - val_specificity_metric: 0.9479\n",
      "Epoch 98/100\n",
      "11/11 [==============================] - 16s 1s/step - loss: -0.9911 - dice_metric: 0.9948 - jaccard_metric: 0.9897 - sensitivity_metric: 0.9950 - specificity_metric: 0.9950 - val_loss: -0.9336 - val_dice_metric: 0.9540 - val_jaccard_metric: 0.9144 - val_sensitivity_metric: 0.9484 - val_specificity_metric: 0.9484\n",
      "Epoch 99/100\n",
      "11/11 [==============================] - 15s 1s/step - loss: -0.9912 - dice_metric: 0.9948 - jaccard_metric: 0.9898 - sensitivity_metric: 0.9950 - specificity_metric: 0.9950 - val_loss: -0.9335 - val_dice_metric: 0.9542 - val_jaccard_metric: 0.9149 - val_sensitivity_metric: 0.9490 - val_specificity_metric: 0.9490\n",
      "Epoch 100/100\n",
      "11/11 [==============================] - 17s 2s/step - loss: -0.9912 - dice_metric: 0.9949 - jaccard_metric: 0.9898 - sensitivity_metric: 0.9951 - specificity_metric: 0.9951 - val_loss: -0.9333 - val_dice_metric: 0.9547 - val_jaccard_metric: 0.9157 - val_sensitivity_metric: 0.9499 - val_specificity_metric: 0.9499\n"
     ]
    }
   ],
   "source": [
    "class CustomLearningRateScheduler(Callback):\n",
    "    def __init__(self, new_lr, epoch_to_change):\n",
    "        super(CustomLearningRateScheduler, self).__init__()\n",
    "        self.new_lr = new_lr\n",
    "        self.epoch_to_change = epoch_to_change\n",
    "\n",
    "    def on_epoch_begin(self, epoch, logs=None):\n",
    "        if epoch == self.epoch_to_change:\n",
    "            tf.keras.backend.set_value(self.model.optimizer.learning_rate, self.new_lr)\n",
    "            print(f\"Learning rate changed to {self.new_lr} at epoch {epoch}\") \n",
    "\n",
    "lr_scheduler = CustomLearningRateScheduler(1e-5, 30)\n",
    "history = model.fit(train_dataset, epochs=config['Epochs'], validation_data=(valid_dataset), callbacks=[lr_scheduler])"
   ]
  },
  {
   "cell_type": "code",
   "execution_count": 19,
   "metadata": {
    "execution": {
     "iopub.execute_input": "2025-04-04T02:24:51.775510Z",
     "iopub.status.busy": "2025-04-04T02:24:51.775156Z",
     "iopub.status.idle": "2025-04-04T02:24:52.984901Z",
     "shell.execute_reply": "2025-04-04T02:24:52.984164Z",
     "shell.execute_reply.started": "2025-04-04T02:24:51.775484Z"
    },
    "trusted": true
   },
   "outputs": [],
   "source": [
    "model.save(f\"{config['Seg_model']}_{config['Activation']}_{config['Dataset']}.keras\")"
   ]
  },
  {
   "cell_type": "markdown",
   "metadata": {},
   "source": [
    "### **Desempeño del modelo**"
   ]
  },
  {
   "cell_type": "markdown",
   "metadata": {},
   "source": [
    "#### **Visualización de las inferencias del modelo**"
   ]
  },
  {
   "cell_type": "code",
   "execution_count": 20,
   "metadata": {
    "execution": {
     "iopub.execute_input": "2025-04-04T02:25:03.539105Z",
     "iopub.status.busy": "2025-04-04T02:25:03.538814Z",
     "iopub.status.idle": "2025-04-04T02:25:03.549116Z",
     "shell.execute_reply": "2025-04-04T02:25:03.548170Z",
     "shell.execute_reply.started": "2025-04-04T02:25:03.539082Z"
    },
    "id": "k-wPUQgYpPxb",
    "trusted": true
   },
   "outputs": [],
   "source": [
    "def performance_visualization(dataset, model, config):\n",
    "\n",
    "    # Select a random batch index\n",
    "    batch = 0\n",
    "\n",
    "    # Skip to the desired batch and take one batch\n",
    "    for images, masks in dataset.skip(batch).take(1):\n",
    "        print(f\"Images in the batch: {images.shape}, Masks in the batch: {masks.shape}\")\n",
    "\n",
    "    # Select a random sample within the batch\n",
    "    sample = random.randint(0, images.shape[0]-1)\n",
    "\n",
    "    predictions = model(images[sample:sample+1,...], training=False)\n",
    "\n",
    "    # Determine the number of columns for the visualization grid\n",
    "\n",
    "    columns = []\n",
    "    rows = 3\n",
    "\n",
    "    columns.append(masks.shape[-1] if masks.shape[-1] <= 6 else 6)\n",
    "    \n",
    "    columns = max(columns)\n",
    "\n",
    "    fig = plt.figure(figsize=(20, 12))\n",
    "    gs = fig.add_gridspec(rows + 1, columns, hspace=0.2, wspace=-0.6)\n",
    "    axes = [[fig.add_subplot(gs[r, c]) for c in range(columns)] for r in range(rows)]\n",
    "\n",
    "    # Display the original image for the selected sample\n",
    "    axes[0][0].set_title('Image',loc='center')\n",
    "    axes[0][0].imshow(images[sample])  # Show the sample image\n",
    "\n",
    "    title_ax = fig.add_subplot(gs[rows-2, :])\n",
    "    title_ax.set_title(\"Original masks of segmentation for different classes\",loc='center')\n",
    "    title_ax.axis('off')  # Ocultar ejes\n",
    "\n",
    "    classes_list = []\n",
    "    while len(classes_list) < min(config['Number of classes'],columns):\n",
    "        num = random.randint(0, config['Number of classes']-1)\n",
    "        if num not in classes_list:\n",
    "            classes_list.append(num)\n",
    "\n",
    "    for i in range(len(classes_list)):\n",
    "        axes[rows-2][i].imshow(masks[sample, :, :,classes_list[i]:classes_list[i]+1])\n",
    "\n",
    "    title_ax = fig.add_subplot(gs[rows-1, :])\n",
    "    title_ax.set_title(\"Predicted masks of segmentation for different classes\",loc='center')\n",
    "    title_ax.axis('off')  # Ocultar ejes\n",
    "\n",
    "    classes_list = []\n",
    "    while len(classes_list) < min(config['Number of classes'],columns):\n",
    "        num = random.randint(0, config['Number of classes']-1)\n",
    "        if num not in classes_list:\n",
    "            classes_list.append(num)\n",
    "\n",
    "    for i in range(len(classes_list)):\n",
    "        axes[rows-1][i].imshow(tf.where(predictions[0, :, :,classes_list[i]:classes_list[i]+1] >0.5, 1.0, 0.0))\n",
    "\n",
    "    [ax.axis('off') for row in axes for ax in row]\n",
    "\n",
    "    # Adjust layout for better spacing\n",
    "    fig.tight_layout()\n",
    "\n",
    "    # Display the visualization\n",
    "    plt.show()\n",
    "    # Free memory\n",
    "    del images, predictions, classes_list, masks# Delete large variables\n",
    "    gc.collect() # Force garbage collection"
   ]
  },
  {
   "cell_type": "code",
   "execution_count": 21,
   "metadata": {
    "execution": {
     "iopub.execute_input": "2025-04-04T02:25:12.186767Z",
     "iopub.status.busy": "2025-04-04T02:25:12.186425Z",
     "iopub.status.idle": "2025-04-04T02:25:15.573746Z",
     "shell.execute_reply": "2025-04-04T02:25:15.573033Z",
     "shell.execute_reply.started": "2025-04-04T02:25:12.186737Z"
    },
    "id": "97sVjO0bpPxb",
    "trusted": true
   },
   "outputs": [
    {
     "name": "stdout",
     "output_type": "stream",
     "text": [
      "Images in the batch: (32, 512, 512, 3), Masks in the batch: (32, 512, 512, 2)\n"
     ]
    },
    {
     "name": "stderr",
     "output_type": "stream",
     "text": [
      "<ipython-input-20-8da1dc506d2d>:61: UserWarning: This figure includes Axes that are not compatible with tight_layout, so results might be incorrect.\n",
      "  fig.tight_layout()\n"
     ]
    },
    {
     "data": {
      "image/png": "[encoded data removed]",
      "text/plain": [
       "<Figure size 2000x1200 with 8 Axes>"
      ]
     },
     "metadata": {},
     "output_type": "display_data"
    }
   ],
   "source": [
    "performance_visualization(test_dataset, model, config)"
   ]
  },
  {
   "cell_type": "markdown",
   "metadata": {},
   "source": [
    "#### **Rendimiento del modelo para datos de evaluación**"
   ]
  },
  {
   "cell_type": "code",
   "execution_count": 22,
   "metadata": {
    "execution": {
     "iopub.execute_input": "2025-04-04T02:25:31.528935Z",
     "iopub.status.busy": "2025-04-04T02:25:31.528630Z",
     "iopub.status.idle": "2025-04-04T02:25:31.537790Z",
     "shell.execute_reply": "2025-04-04T02:25:31.536766Z",
     "shell.execute_reply.started": "2025-04-04T02:25:31.528912Z"
    },
    "trusted": true
   },
   "outputs": [],
   "source": [
    "def performance_measures(model,dataset,config,save_results=True):\n",
    "\n",
    "    with tf.device('/GPU:0' if tf.config.list_physical_devices('GPU') else '/CPU:0'):\n",
    "        # Initialize empty lists to store metric results\n",
    "        dice_results = []\n",
    "        jaccard_results = []\n",
    "        sensitivity_results = []\n",
    "        specificity_results = []\n",
    "\n",
    "        # Process each batch in the dataset\n",
    "        for data_batch in dataset:\n",
    "            images, masks = data_batch\n",
    "\n",
    "            # Generate model predictions\n",
    "            y_pred = model(images, training=False)\n",
    "\n",
    "            # Assume the model's prediction covers all classes\n",
    "            y_pred_class = y_pred[...,:config['Number of classes']]\n",
    "            dice_batch = dice_metric(masks, y_pred_class, return_mean=False)\n",
    "            jaccard_batch = jaccard_metric(masks, y_pred_class, return_mean=False)\n",
    "            sensitivity_batch = sensitivity_metric(masks, y_pred_class, return_mean=False)\n",
    "            specificity_batch = specificity_metric(masks, y_pred_class, return_mean=False)\n",
    "            \n",
    "            # Store results from the current batch\n",
    "            dice_results.append(dice_batch.numpy().flatten())\n",
    "            jaccard_results.append(jaccard_batch.numpy().flatten())\n",
    "            sensitivity_results.append(sensitivity_batch.numpy().flatten())\n",
    "            specificity_results.append(specificity_batch.numpy().flatten())\n",
    "\n",
    "            # Free memory by deleting unnecessary tensors immediately\n",
    "            del y_pred, y_pred_class, dice_batch, jaccard_batch, sensitivity_batch, specificity_batch, images, masks\n",
    "\n",
    "        # Convert lists of batches to flat NumPy arrays for analysis\n",
    "        dice_results = np.concatenate(dice_results)\n",
    "        jaccard_results = np.concatenate(jaccard_results)\n",
    "        sensitivity_results = np.concatenate(sensitivity_results)\n",
    "        specificity_results = np.concatenate(specificity_results)\n",
    "\n",
    "        # Print performance summaries with 5 decimal places precision\n",
    "        print(\"Model's performance metrics:\")\n",
    "        print(f\"Dice Coefficient mean: {np.mean(dice_results):.5f}, standard deviation: {np.std(dice_results):.5f}\")\n",
    "        print(f\"Jaccard Index mean: {np.mean(jaccard_results):.5f}, standard deviation: {np.std(jaccard_results):.5f}\")\n",
    "        print(f\"Sensitivity mean: {np.mean(sensitivity_results):.5f}, standard deviation: {np.std(sensitivity_results):.5f}\")\n",
    "        print(f\"Specificity mean: {np.mean(specificity_results):.5f}, standard deviation: {np.std(specificity_results):.5f}\")\n",
    "\n",
    "        # Save results to disk if requested\n",
    "        if save_results:\n",
    "            # Check if the directory exists, and if not, create it\n",
    "            if not os.path.exists('./results'):\n",
    "                os.makedirs('./results')\n",
    "\n",
    "            # Generate filenames using the configuration parameters\n",
    "            filename_base = f\"./results/{config['Seg_model']}_{config['Activation']}_{config['Dataset']}\"\n",
    "            np.save(f\"{filename_base}_DICE.npy\", dice_results)\n",
    "            np.save(f\"{filename_base}_Jaccard.npy\", jaccard_results)\n",
    "            np.save(f\"{filename_base}_Sensitivity.npy\", sensitivity_results)\n",
    "            np.save(f\"{filename_base}_Specificity.npy\", specificity_results)\n",
    "\n",
    "        # Cleanup intermediate results to free memory\n",
    "        gc.collect()\n",
    "        del dice_results, jaccard_results, sensitivity_results, specificity_results\n",
    "        return [f\"{filename_base}_DICE.npy\", f\"{filename_base}_Jaccard.npy\", f\"{filename_base}_Sensitivity.npy\", f\"{filename_base}_Specificity.npy\"]\n"
   ]
  },
  {
   "cell_type": "code",
   "execution_count": 23,
   "metadata": {
    "execution": {
     "iopub.execute_input": "2025-04-04T02:25:37.163168Z",
     "iopub.status.busy": "2025-04-04T02:25:37.162847Z",
     "iopub.status.idle": "2025-04-04T02:25:52.597257Z",
     "shell.execute_reply": "2025-04-04T02:25:52.596321Z",
     "shell.execute_reply.started": "2025-04-04T02:25:37.163138Z"
    },
    "id": "Uo9OgvMDpPxb",
    "trusted": true
   },
   "outputs": [
    {
     "name": "stdout",
     "output_type": "stream",
     "text": [
      "Model's performance metrics:\n",
      "Dice Coefficient mean: 0.95854, standard deviation: 0.03781\n",
      "Jaccard Index mean: 0.92275, standard deviation: 0.06550\n",
      "Sensitivity mean: 0.95730, standard deviation: 0.04902\n",
      "Specificity mean: 0.95730, standard deviation: 0.04902\n"
     ]
    }
   ],
   "source": [
    "metrics = performance_measures(model,test_dataset,config,save_results=True)"
   ]
  }
 ],
 "metadata": {
  "accelerator": "GPU",
  "colab": {
   "gpuType": "L4",
   "machine_shape": "hm",
   "provenance": []
  },
  "kaggle": {
   "accelerator": "nvidiaTeslaT4",
   "dataSources": [],
   "dockerImageVersionId": 30919,
   "isGpuEnabled": true,
   "isInternetEnabled": true,
   "language": "python",
   "sourceType": "notebook"
  },
  "kernelspec": {
   "display_name": "Python 3",
   "language": "python",
   "name": "python3"
  },
  "language_info": {
   "codemirror_mode": {
    "name": "ipython",
    "version": 3
   },
   "file_extension": ".py",
   "mimetype": "text/x-python",
   "name": "python",
   "nbconvert_exporter": "python",
   "pygments_lexer": "ipython3",
   "version": "3.10.12"
  }
 },
 "nbformat": 4,
 "nbformat_minor": 4
}
