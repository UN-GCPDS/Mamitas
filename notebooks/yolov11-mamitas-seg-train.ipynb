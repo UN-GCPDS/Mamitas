{
 "cells": [
  {
   "cell_type": "markdown",
   "metadata": {
    "papermill": {
     "duration": 0.002731,
     "end_time": "2025-03-19T16:04:22.911799",
     "exception": false,
     "start_time": "2025-03-19T16:04:22.909068",
     "status": "completed"
    },
    "tags": []
   },
   "source": [
    "### **Descarga e importe de bibliotecas**"
   ]
  },
  {
   "cell_type": "code",
   "execution_count": 1,
   "metadata": {
    "execution": {
     "iopub.execute_input": "2025-04-01T16:29:00.746250Z",
     "iopub.status.busy": "2025-04-01T16:29:00.745861Z",
     "iopub.status.idle": "2025-04-01T16:29:11.864601Z",
     "shell.execute_reply": "2025-04-01T16:29:11.863579Z",
     "shell.execute_reply.started": "2025-04-01T16:29:00.746215Z"
    },
    "trusted": true
   },
   "outputs": [],
   "source": [
    "%%capture\n",
    "# Instalar y actualizar bibliotecas necesarias\n",
    "!pip install roboflow\n",
    "!pip install ultralytics"
   ]
  },
  {
   "cell_type": "code",
   "execution_count": 2,
   "metadata": {
    "execution": {
     "iopub.execute_input": "2025-04-01T16:34:34.958672Z",
     "iopub.status.busy": "2025-04-01T16:34:34.958273Z",
     "iopub.status.idle": "2025-04-01T16:34:41.697472Z",
     "shell.execute_reply": "2025-04-01T16:34:41.696824Z",
     "shell.execute_reply.started": "2025-04-01T16:34:34.958637Z"
    },
    "papermill": {
     "duration": 26.024217,
     "end_time": "2025-03-19T16:04:48.938492",
     "exception": false,
     "start_time": "2025-03-19T16:04:22.914275",
     "status": "completed"
    },
    "tags": [],
    "trusted": true
   },
   "outputs": [
    {
     "name": "stdout",
     "output_type": "stream",
     "text": [
      "Creating new Ultralytics Settings v0.0.6 file ✅ \n",
      "View Ultralytics Settings with 'yolo settings' or at '/root/.config/Ultralytics/settings.json'\n",
      "Update Settings with 'yolo settings key=value', i.e. 'yolo settings runs_dir=path/to/dir'. For help see https://docs.ultralytics.com/quickstart/#ultralytics-settings.\n"
     ]
    }
   ],
   "source": [
    "# Importar bibliotecas a usar y deshabilitar WanDB\n",
    "import os\n",
    "import yaml\n",
    "import wandb\n",
    "import shutil\n",
    "import requests\n",
    "import numpy as np\n",
    "import matplotlib.pyplot as plt\n",
    "import matplotlib.image as mpimg\n",
    "from roboflow import Roboflow\n",
    "from ultralytics import YOLO\n",
    "\n",
    "\n",
    "os.environ['WANDB_DISABLED'] = 'true'"
   ]
  },
  {
   "cell_type": "markdown",
   "metadata": {
    "papermill": {
     "duration": 0.001986,
     "end_time": "2025-03-19T16:04:48.942918",
     "exception": false,
     "start_time": "2025-03-19T16:04:48.940932",
     "status": "completed"
    },
    "tags": []
   },
   "source": [
    "### **Descarga y acondicionamiento de la base de datos de Mamitas**"
   ]
  },
  {
   "cell_type": "code",
   "execution_count": 3,
   "metadata": {
    "execution": {
     "iopub.execute_input": "2025-04-01T16:36:02.836601Z",
     "iopub.status.busy": "2025-04-01T16:36:02.836058Z",
     "iopub.status.idle": "2025-04-01T16:36:06.839783Z",
     "shell.execute_reply": "2025-04-01T16:36:06.838612Z",
     "shell.execute_reply.started": "2025-04-01T16:36:02.836574Z"
    },
    "papermill": {
     "duration": 9.473563,
     "end_time": "2025-03-19T16:04:58.418515",
     "exception": false,
     "start_time": "2025-03-19T16:04:48.944952",
     "status": "completed"
    },
    "tags": [],
    "trusted": true
   },
   "outputs": [
    {
     "name": "stdout",
     "output_type": "stream",
     "text": [
      "loading Roboflow workspace...\n",
      "loading Roboflow project...\n"
     ]
    },
    {
     "name": "stderr",
     "output_type": "stream",
     "text": [
      "Downloading Dataset Version Zip in MAMITAS-YOLO-3 to yolov11:: 100%|██████████| 8159/8159 [00:01<00:00, 7879.20it/s] "
     ]
    },
    {
     "name": "stdout",
     "output_type": "stream",
     "text": [
      "\n"
     ]
    },
    {
     "name": "stderr",
     "output_type": "stream",
     "text": [
      "\n",
      "Extracting Dataset Version Zip to MAMITAS-YOLO-3 in yolov11:: 100%|██████████| 844/844 [00:00<00:00, 9469.75it/s]\n"
     ]
    }
   ],
   "source": [
    "# Descargar repositorio de aisladores\n",
    "rf = Roboflow(api_key=\"9smAmQgaD8pNOTsDMYKR\")\n",
    "project = rf.workspace(\"mamitas\").project(\"mamitas-yolo\")\n",
    "version = project.version(3)\n",
    "dataset = version.download(\"yolov11\")\n",
    "!mkdir datasets\n",
    "!mv ./MAMITAS-YOLO-3 ./datasets/"
   ]
  },
  {
   "cell_type": "code",
   "execution_count": 4,
   "metadata": {
    "execution": {
     "iopub.execute_input": "2025-04-01T16:36:44.594862Z",
     "iopub.status.busy": "2025-04-01T16:36:44.594473Z",
     "iopub.status.idle": "2025-04-01T16:36:44.602000Z",
     "shell.execute_reply": "2025-04-01T16:36:44.601067Z",
     "shell.execute_reply.started": "2025-04-01T16:36:44.594830Z"
    },
    "papermill": {
     "duration": 0.016269,
     "end_time": "2025-03-19T16:04:58.440424",
     "exception": false,
     "start_time": "2025-03-19T16:04:58.424155",
     "status": "completed"
    },
    "tags": [],
    "trusted": true
   },
   "outputs": [],
   "source": [
    "# Creación del directorio de las partes de la base de datos\n",
    "data = {\n",
    "    'path': './MAMITAS-YOLO-3',\n",
    "    'train': 'train/images',\n",
    "    'val': 'valid/images',\n",
    "    'test': 'test/images',\n",
    "    'nc': 1,\n",
    "    'names': ['feet'],\n",
    "    'roboflow': {\n",
    "        'license': 'CC BY 4.0',\n",
    "        'project': 'MAMITAS-YOLO',\n",
    "        'url': 'https://universe.roboflow.com/mamitas/mamitas-yolo/dataset/3',\n",
    "        'version': '3',\n",
    "        'workspace': 'Mamitas'}\n",
    "}\n",
    "\n",
    "# Especificar el directorio del archivo\n",
    "file_path = './datasets/MAMITAS-YOLO-3/data.yaml'\n",
    "\n",
    "# Escribir la información sobre el archivo YAML\n",
    "with open(file_path, 'w') as yaml_file:\n",
    "    yaml.dump(data, yaml_file, default_flow_style=False)"
   ]
  },
  {
   "cell_type": "markdown",
   "metadata": {
    "papermill": {
     "duration": 0.004481,
     "end_time": "2025-03-19T16:04:58.449505",
     "exception": false,
     "start_time": "2025-03-19T16:04:58.445024",
     "status": "completed"
    },
    "tags": []
   },
   "source": [
    "### **Entrenamiento del modelo YOLOv11**"
   ]
  },
  {
   "cell_type": "markdown",
   "metadata": {},
   "source": [
    "### **Funcionamiento del modelo YOLO (You Only Look Once)**\n",
    "\n",
    "YOLO para segmentación de objetos es una extensión del modelo YOLO de detección, diseñada para identificar la posición y forma precisa de los objetos en una imagen en tiempo real. En lugar de solo predecir bounding boxes, este modelo también genera máscaras de segmentación para cada objeto detectado. Funciona dividiendo la imagen en una cuadrícula, donde cada celda predice la presencia de un objeto, sus coordenadas, la clase y la máscara correspondiente.\n",
    "\n",
    "La función de pérdida total en un modelo YOLO de segmentación se compone de varios términos que permiten entrenar simultáneamente la detección y la segmentación de objetos. A continuación se muestran las fórmulas principales:\n",
    "\n",
    "1. **Pérdida de Localización:**  \n",
    "   Mide el error en las coordenadas de las cajas delimitadoras.\n",
    "   $$ \n",
    "   L_{\\text{loc}} = \\sum_{i \\in \\text{objetos}} \\left[(b_x - \\hat{b}_x)^2 + (b_y - \\hat{b}_y)^2 + (b_w - \\hat{b}_w)^2 + (b_h - \\hat{b}_h)^2 \\right]\n",
    "   $$\n",
    "\n",
    "2. **Pérdida de Confianza:**  \n",
    "   Penaliza la diferencia entre la puntuación de confianza predicha \\( c \\) y la presencia real del objeto \\( \\hat{c} \\).\n",
    "   $$ \n",
    "   L_{\\text{conf}} = \\sum_{i} (c - \\hat{c})^2\n",
    "   $$\n",
    "\n",
    "3. **Pérdida de Clasificación:**  \n",
    "   Utiliza la entropía cruzada para medir el error en la predicción de la clase.\n",
    "   $$ \n",
    "   L_{\\text{class}} = - \\sum_{i \\in \\text{objetos}} \\sum_{j=1}^{C} \\hat{p}_j \\log(p_j)\n",
    "   $$\n",
    "\n",
    "4. **Pérdida de Segmentación:**  \n",
    "   Compara la máscara predicha \\( M \\) con la máscara real \\( \\hat{M} \\) usando la entropía cruzada pixel a pixel.\n",
    "   $$ \n",
    "   L_{\\text{seg}} = - \\sum_{pixels} \\left[\\hat{M}(pixel) \\log(M(pixel)) + (1-\\hat{M}(pixel)) \\log(1-M(pixel))\\right]\n",
    "   $$\n",
    "\n",
    "La función de pérdida total es una combinación ponderada de estos términos:\n",
    "$$ \n",
    "L_{\\text{total}} = \\lambda_{\\text{loc}} L_{\\text{loc}} + \\lambda_{\\text{conf}} L_{\\text{conf}} + \\lambda_{\\text{class}} L_{\\text{class}} + \\lambda_{\\text{seg}} L_{\\text{seg}}\n",
    "$$\n",
    "\n",
    "donde $$(\\lambda_{\\text{loc}}, \\lambda_{\\text{conf}}, \\lambda_{\\text{class}},\\lambda_{\\text{seg}})$$ son coeficientes que balancean la importancia de cada componente.\n"
   ]
  },
  {
   "cell_type": "code",
   "execution_count": null,
   "metadata": {
    "execution": {
     "iopub.execute_input": "2025-04-01T16:37:35.706226Z",
     "iopub.status.busy": "2025-04-01T16:37:35.705932Z",
     "iopub.status.idle": "2025-04-01T16:52:32.039033Z",
     "shell.execute_reply": "2025-04-01T16:52:32.038029Z",
     "shell.execute_reply.started": "2025-04-01T16:37:35.706204Z"
    },
    "papermill": {
     "duration": 6855.185603,
     "end_time": "2025-03-19T17:59:13.639720",
     "exception": false,
     "start_time": "2025-03-19T16:04:58.454117",
     "status": "completed"
    },
    "tags": [],
    "trusted": true
   },
   "outputs": [
    {
     "name": "stdout",
     "output_type": "stream",
     "text": [
      "Downloading https://github.com/ultralytics/assets/releases/download/v8.3.0/yolo11m-seg.pt to 'yolo11m-seg.pt'...\n"
     ]
    },
    {
     "name": "stderr",
     "output_type": "stream",
     "text": [
      "100%|██████████| 43.3M/43.3M [00:01<00:00, 43.1MB/s]\n"
     ]
    },
    {
     "name": "stdout",
     "output_type": "stream",
     "text": [
      "Ultralytics 8.3.99 🚀 Python-3.10.12 torch-2.5.1+cu121 CUDA:0 (Tesla T4, 15095MiB)\n",
      "                                                       CUDA:1 (Tesla T4, 15095MiB)\n",
      "\u001b[34m\u001b[1mengine/trainer: \u001b[0mtask=segment, mode=train, model=yolo11m-seg.pt, data=./datasets/MAMITAS-YOLO-3/data.yaml, epochs=100, time=None, patience=100, batch=16, imgsz=512, save=True, save_period=-1, cache=False, device=[0, 1], workers=8, project=None, name=train, exist_ok=False, pretrained=True, optimizer=auto, verbose=True, seed=0, deterministic=True, single_cls=False, rect=False, cos_lr=False, close_mosaic=10, resume=False, amp=True, fraction=1.0, profile=False, freeze=None, multi_scale=False, overlap_mask=True, mask_ratio=4, dropout=0.0, val=True, split=val, save_json=False, save_hybrid=False, conf=None, iou=0.7, max_det=300, half=False, dnn=False, plots=True, source=None, vid_stride=1, stream_buffer=False, visualize=False, augment=False, agnostic_nms=False, classes=None, retina_masks=False, embed=None, show=False, save_frames=False, save_txt=False, save_conf=False, save_crop=False, show_labels=True, show_conf=True, show_boxes=True, line_width=None, format=torchscript, keras=False, optimize=False, int8=False, dynamic=False, simplify=True, opset=None, workspace=None, nms=False, lr0=0.01, lrf=0.01, momentum=0.937, weight_decay=0.0005, warmup_epochs=3.0, warmup_momentum=0.8, warmup_bias_lr=0.1, box=7.5, cls=0.5, dfl=1.5, pose=12.0, kobj=1.0, nbs=64, hsv_h=0.015, hsv_s=0.7, hsv_v=0.4, degrees=0.0, translate=0.1, scale=0.5, shear=0.0, perspective=0.0, flipud=0.0, fliplr=0.5, bgr=0.0, mosaic=1.0, mixup=0.0, copy_paste=0.0, copy_paste_mode=flip, auto_augment=randaugment, erasing=0.4, crop_fraction=1.0, cfg=None, tracker=botsort.yaml, save_dir=runs/segment/train\n",
      "Downloading https://ultralytics.com/assets/Arial.ttf to '/root/.config/Ultralytics/Arial.ttf'...\n"
     ]
    },
    {
     "name": "stderr",
     "output_type": "stream",
     "text": [
      "100%|██████████| 755k/755k [00:00<00:00, 32.2MB/s]\n"
     ]
    },
    {
     "name": "stdout",
     "output_type": "stream",
     "text": [
      "Overriding model.yaml nc=80 with nc=1\n",
      "\n",
      "                   from  n    params  module                                       arguments                     \n",
      "  0                  -1  1      1856  ultralytics.nn.modules.conv.Conv             [3, 64, 3, 2]                 \n",
      "  1                  -1  1     73984  ultralytics.nn.modules.conv.Conv             [64, 128, 3, 2]               \n",
      "  2                  -1  1    111872  ultralytics.nn.modules.block.C3k2            [128, 256, 1, True, 0.25]     \n",
      "  3                  -1  1    590336  ultralytics.nn.modules.conv.Conv             [256, 256, 3, 2]              \n",
      "  4                  -1  1    444928  ultralytics.nn.modules.block.C3k2            [256, 512, 1, True, 0.25]     \n",
      "  5                  -1  1   2360320  ultralytics.nn.modules.conv.Conv             [512, 512, 3, 2]              \n",
      "  6                  -1  1   1380352  ultralytics.nn.modules.block.C3k2            [512, 512, 1, True]           \n",
      "  7                  -1  1   2360320  ultralytics.nn.modules.conv.Conv             [512, 512, 3, 2]              \n",
      "  8                  -1  1   1380352  ultralytics.nn.modules.block.C3k2            [512, 512, 1, True]           \n",
      "  9                  -1  1    656896  ultralytics.nn.modules.block.SPPF            [512, 512, 5]                 \n",
      " 10                  -1  1    990976  ultralytics.nn.modules.block.C2PSA           [512, 512, 1]                 \n",
      " 11                  -1  1         0  torch.nn.modules.upsampling.Upsample         [None, 2, 'nearest']          \n",
      " 12             [-1, 6]  1         0  ultralytics.nn.modules.conv.Concat           [1]                           \n",
      " 13                  -1  1   1642496  ultralytics.nn.modules.block.C3k2            [1024, 512, 1, True]          \n",
      " 14                  -1  1         0  torch.nn.modules.upsampling.Upsample         [None, 2, 'nearest']          \n",
      " 15             [-1, 4]  1         0  ultralytics.nn.modules.conv.Concat           [1]                           \n",
      " 16                  -1  1    542720  ultralytics.nn.modules.block.C3k2            [1024, 256, 1, True]          \n",
      " 17                  -1  1    590336  ultralytics.nn.modules.conv.Conv             [256, 256, 3, 2]              \n",
      " 18            [-1, 13]  1         0  ultralytics.nn.modules.conv.Concat           [1]                           \n",
      " 19                  -1  1   1511424  ultralytics.nn.modules.block.C3k2            [768, 512, 1, True]           \n",
      " 20                  -1  1   2360320  ultralytics.nn.modules.conv.Conv             [512, 512, 3, 2]              \n",
      " 21            [-1, 10]  1         0  ultralytics.nn.modules.conv.Concat           [1]                           \n",
      " 22                  -1  1   1642496  ultralytics.nn.modules.block.C3k2            [1024, 512, 1, True]          \n",
      " 23        [16, 19, 22]  1   3718003  ultralytics.nn.modules.head.Segment          [1, 32, 256, [256, 512, 512]] \n",
      "YOLO11m-seg summary: 253 layers, 22,359,987 parameters, 22,359,971 gradients, 123.6 GFLOPs\n",
      "\n",
      "Transferred 705/711 items from pretrained weights\n",
      "\u001b[34m\u001b[1mDDP:\u001b[0m debug command /usr/bin/python3 -m torch.distributed.run --nproc_per_node 2 --master_port 38617 /root/.config/Ultralytics/DDP/_temp_a4ikmuzr134981110987312.py\n"
     ]
    }
   ],
   "source": [
    "# Entrenar YOLOv11 para detección de Mamitas\n",
    "\n",
    "# Carga de modelo preentrenado\n",
    "model = YOLO('yolo11m-seg.pt')\n",
    "\n",
    "# Entrenar el modelo\n",
    "results = model.train(data='./datasets/MAMITAS-YOLO-3/data.yaml', epochs=100, imgsz=512, device=[0,1])"
   ]
  },
  {
   "cell_type": "markdown",
   "metadata": {
    "papermill": {
     "duration": 0.94765,
     "end_time": "2025-03-19T17:59:15.597372",
     "exception": false,
     "start_time": "2025-03-19T17:59:14.649722",
     "status": "completed"
    },
    "tags": []
   },
   "source": [
    "### **Rendimiento del modelo sobre datos de validación**"
   ]
  },
  {
   "cell_type": "code",
   "execution_count": 6,
   "metadata": {
    "execution": {
     "iopub.execute_input": "2025-04-01T16:54:34.096784Z",
     "iopub.status.busy": "2025-04-01T16:54:34.096032Z",
     "iopub.status.idle": "2025-04-01T16:54:34.209210Z",
     "shell.execute_reply": "2025-04-01T16:54:34.208135Z",
     "shell.execute_reply.started": "2025-04-01T16:54:34.096751Z"
    },
    "papermill": {
     "duration": 1.128986,
     "end_time": "2025-03-19T17:59:17.792703",
     "exception": false,
     "start_time": "2025-03-19T17:59:16.663717",
     "status": "completed"
    },
    "tags": [],
    "trusted": true
   },
   "outputs": [],
   "source": [
    "# Validar el modelo entrenado\n",
    "\n",
    "# Carga de modelo entrenado\n",
    "model = YOLO('./runs/segment/train/weights/best.pt',task='segment') "
   ]
  },
  {
   "cell_type": "code",
   "execution_count": 7,
   "metadata": {
    "execution": {
     "iopub.execute_input": "2025-04-01T16:54:37.901368Z",
     "iopub.status.busy": "2025-04-01T16:54:37.901009Z",
     "iopub.status.idle": "2025-04-01T16:54:46.990434Z",
     "shell.execute_reply": "2025-04-01T16:54:46.989553Z",
     "shell.execute_reply.started": "2025-04-01T16:54:37.901339Z"
    },
    "papermill": {
     "duration": 23.44316,
     "end_time": "2025-03-19T17:59:42.243705",
     "exception": false,
     "start_time": "2025-03-19T17:59:18.800545",
     "status": "completed"
    },
    "tags": [],
    "trusted": true
   },
   "outputs": [
    {
     "name": "stdout",
     "output_type": "stream",
     "text": [
      "Ultralytics 8.3.99 🚀 Python-3.10.12 torch-2.5.1+cu121 CUDA:0 (Tesla T4, 15095MiB)\n",
      "YOLO11m-seg summary (fused): 138 layers, 22,336,083 parameters, 0 gradients, 123.0 GFLOPs\n"
     ]
    },
    {
     "name": "stderr",
     "output_type": "stream",
     "text": [
      "\u001b[34m\u001b[1mval: \u001b[0mScanning /kaggle/working/datasets/MAMITAS-YOLO-3/valid/labels.cache... 37 images, 0 backgrounds, 0 corrupt: 100%|██████████| 37/37 [00:00<?, ?it/s]\n",
      "                 Class     Images  Instances      Box(P          R      mAP50  mAP50-95)     Mask(P          R      mAP50  mAP50-95): 100%|██████████| 3/3 [00:01<00:00,  1.56it/s]\n"
     ]
    },
    {
     "name": "stdout",
     "output_type": "stream",
     "text": [
      "                   all         37         74          1          1      0.995      0.995          1          1      0.995      0.995\n"
     ]
    },
    {
     "name": "stderr",
     "output_type": "stream",
     "text": [
      "invalid value encountered in less\n",
      "invalid value encountered in less\n"
     ]
    },
    {
     "name": "stdout",
     "output_type": "stream",
     "text": [
      "Speed: 0.3ms preprocess, 28.7ms inference, 0.0ms loss, 6.1ms postprocess per image\n",
      "Results saved to \u001b[1mruns/segment/val\u001b[0m\n"
     ]
    }
   ],
   "source": [
    "# Realizar validación\n",
    "validation_results = model.val(data='./datasets/MAMITAS-YOLO-3/data.yaml',\n",
    "                               imgsz=512,\n",
    "                               batch=16,\n",
    "                               conf=0.8,\n",
    "                               iou=0.6,\n",
    "                               device='0')"
   ]
  },
  {
   "cell_type": "code",
   "execution_count": 8,
   "metadata": {
    "execution": {
     "iopub.execute_input": "2025-04-01T16:55:07.139974Z",
     "iopub.status.busy": "2025-04-01T16:55:07.139268Z",
     "iopub.status.idle": "2025-04-01T16:55:08.907038Z",
     "shell.execute_reply": "2025-04-01T16:55:08.906169Z",
     "shell.execute_reply.started": "2025-04-01T16:55:07.139946Z"
    },
    "papermill": {
     "duration": 2.596951,
     "end_time": "2025-03-19T17:59:45.849165",
     "exception": false,
     "start_time": "2025-03-19T17:59:43.252214",
     "status": "completed"
    },
    "tags": [],
    "trusted": true
   },
   "outputs": [
    {
     "data": {
      "image/png": "[encoded data removed]",
      "text/plain": [
       "<Figure size 1800x800 with 2 Axes>"
      ]
     },
     "metadata": {},
     "output_type": "display_data"
    }
   ],
   "source": [
    "# Cargar la imagen\n",
    "image = mpimg.imread(\"./runs/segment/val/confusion_matrix.png\")\n",
    "image_1 = mpimg.imread(\"./runs/segment/val/MaskPR_curve.png\")\n",
    "\n",
    "# Mostrar la matriz de confusión imagen\n",
    "fig, axis = plt.subplots(1,2,figsize=(18,8))\n",
    "axis[0].imshow(image)\n",
    "axis[0].axis('off')\n",
    "axis[1].imshow(image_1)\n",
    "axis[1].axis('off')\n",
    "plt.show()"
   ]
  }
 ],
 "metadata": {
  "kaggle": {
   "accelerator": "nvidiaTeslaT4",
   "dataSources": [
    {
     "modelId": 265900,
     "modelInstanceId": 244283,
     "sourceId": 285041,
     "sourceType": "modelInstanceVersion"
    }
   ],
   "dockerImageVersionId": 30919,
   "isGpuEnabled": true,
   "isInternetEnabled": true,
   "language": "python",
   "sourceType": "notebook"
  },
  "kernelspec": {
   "display_name": "Python 3",
   "language": "python",
   "name": "python3"
  },
  "language_info": {
   "codemirror_mode": {
    "name": "ipython",
    "version": 3
   },
   "file_extension": ".py",
   "mimetype": "text/x-python",
   "name": "python",
   "nbconvert_exporter": "python",
   "pygments_lexer": "ipython3",
   "version": "3.10.12"
  },
  "papermill": {
   "default_parameters": {},
   "duration": 6929.491822,
   "end_time": "2025-03-19T17:59:49.718970",
   "environment_variables": {},
   "exception": null,
   "input_path": "__notebook__.ipynb",
   "output_path": "__notebook__.ipynb",
   "parameters": {},
   "start_time": "2025-03-19T16:04:20.227148",
   "version": "2.6.0"
  }
 },
 "nbformat": 4,
 "nbformat_minor": 4
}
